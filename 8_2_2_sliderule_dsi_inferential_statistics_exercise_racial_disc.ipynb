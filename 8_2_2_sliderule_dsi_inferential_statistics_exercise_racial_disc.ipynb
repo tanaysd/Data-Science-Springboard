{
 "cells": [
  {
   "cell_type": "markdown",
   "metadata": {
    "deletable": true,
    "editable": true
   },
   "source": [
    "# Examining Racial Discrimination in the US Job Market\n",
    "\n",
    "### Background\n",
    "Racial discrimination continues to be pervasive in cultures throughout the world. Researchers examined the level of racial discrimination in the United States labor market by randomly assigning identical résumés to black-sounding or white-sounding names and observing the impact on requests for interviews from employers.\n",
    "\n",
    "### Data\n",
    "In the dataset provided, each row represents a resume. The 'race' column has two values, 'b' and 'w', indicating black-sounding and white-sounding. The column 'call' has two values, 1 and 0, indicating whether the resume received a call from employers or not.\n",
    "\n",
    "Note that the 'b' and 'w' values in race are assigned randomly to the resumes when presented to the employer."
   ]
  },
  {
   "cell_type": "markdown",
   "metadata": {
    "deletable": true,
    "editable": true
   },
   "source": [
    "### Exercises\n",
    "You will perform a statistical analysis to establish whether race has a significant impact on the rate of callbacks for resumes.\n",
    "\n",
    "Answer the following questions **in this notebook below and submit to your Github account**. \n",
    "\n",
    "   1. What test is appropriate for this problem? Does CLT apply?\n",
    "   2. What are the null and alternate hypotheses?\n",
    "   3. Compute margin of error, confidence interval, and p-value.\n",
    "   4. Write a story describing the statistical significance in the context or the original problem.\n",
    "   5. Does your analysis mean that race/name is the most important factor in callback success? Why or why not? If not, how would you amend your analysis?\n",
    "\n",
    "You can include written notes in notebook cells using Markdown: \n",
    "   - In the control panel at the top, choose Cell > Cell Type > Markdown\n",
    "   - Markdown syntax: http://nestacms.com/docs/creating-content/markdown-cheat-sheet\n",
    "\n",
    "\n",
    "#### Resources\n",
    "+ Experiment information and data source: http://www.povertyactionlab.org/evaluation/discrimination-job-market-united-states\n",
    "+ Scipy statistical methods: http://docs.scipy.org/doc/scipy/reference/stats.html \n",
    "+ Markdown syntax: http://nestacms.com/docs/creating-content/markdown-cheat-sheet\n",
    "\n",
    "****"
   ]
  },
  {
   "cell_type": "code",
   "execution_count": 1,
   "metadata": {
    "collapsed": true,
    "deletable": true,
    "editable": true
   },
   "outputs": [],
   "source": [
    "import pandas as pd\n",
    "import numpy as np\n",
    "from scipy import stats"
   ]
  },
  {
   "cell_type": "code",
   "execution_count": 2,
   "metadata": {
    "collapsed": false,
    "deletable": true,
    "editable": true
   },
   "outputs": [],
   "source": [
    "data = pd.io.stata.read_stata('data/us_job_market_discrimination.dta')"
   ]
  },
  {
   "cell_type": "code",
   "execution_count": 3,
   "metadata": {
    "collapsed": false,
    "deletable": true,
    "editable": true
   },
   "outputs": [
    {
     "data": {
      "text/plain": [
       "157.0"
      ]
     },
     "execution_count": 3,
     "metadata": {},
     "output_type": "execute_result"
    }
   ],
   "source": [
    "# number of callbacks for black-sounding names\n",
    "sum(data[data.race=='b'].call)"
   ]
  },
  {
   "cell_type": "code",
   "execution_count": 4,
   "metadata": {
    "collapsed": false,
    "deletable": true,
    "editable": true
   },
   "outputs": [
    {
     "data": {
      "text/plain": [
       "235.0"
      ]
     },
     "execution_count": 4,
     "metadata": {},
     "output_type": "execute_result"
    }
   ],
   "source": [
    "# number of callbacks for white-sounding names\n",
    "sum(data[data.race=='w'].call)"
   ]
  },
  {
   "cell_type": "markdown",
   "metadata": {
    "deletable": true,
    "editable": true
   },
   "source": [
    "## 1. What test is appropriate for this problem? Does CLT apply?\n",
    "\n",
    "The goal is to test whether race as indicated by name has a significant impact on the rate of callbacks for resumes. We can test the equality of two proportions of callback rates for both races. Since there are 4870 resumes, the central limit theorem applies and states that the difference between the two proportions is approximately a normal distribution. \n",
    "\n",
    "## 2. What are the null and alternate hypotheses?\n",
    "\n",
    "The null hypothesis is that the callback rate for blacks $p_b$ equals the callback rate for whites $p_w$. The alterative hypothesis is that $p_b$ <> $p_w$."
   ]
  },
  {
   "cell_type": "code",
   "execution_count": 5,
   "metadata": {
    "collapsed": false,
    "deletable": true,
    "editable": true
   },
   "outputs": [
    {
     "name": "stdout",
     "output_type": "stream",
     "text": [
      "Callback rates for blacks & whites are: 0.064, 0.097\n"
     ]
    }
   ],
   "source": [
    "# Compute the callback rates for both races\n",
    "n_b = len(data[data.race=='b'])\n",
    "n_w = len(data[data.race=='w'])\n",
    "c_b = sum(data[data.race=='b'].call)\n",
    "c_w = sum(data[data.race=='w'].call)\n",
    "p_b = c_b / n_b\n",
    "p_w = c_w / n_w\n",
    "print('Callback rates for blacks & whites are: {:1.3f}, {:1.3f}'.format(p_b,p_w))"
   ]
  },
  {
   "cell_type": "markdown",
   "metadata": {
    "deletable": true,
    "editable": true
   },
   "source": [
    "## 3. Compute margin of error, confidence interval, and p-value."
   ]
  },
  {
   "cell_type": "code",
   "execution_count": 6,
   "metadata": {
    "collapsed": false,
    "deletable": true,
    "editable": true
   },
   "outputs": [
    {
     "name": "stdout",
     "output_type": "stream",
     "text": [
      "Standard error for the difference between callback rates: 0.0078\n"
     ]
    }
   ],
   "source": [
    "# Compute the standard error for the difference between callback rates\n",
    "se = np.sqrt((p_b*(1-p_b)/n_b)+(p_w*(1-p_w)/n_w))\n",
    "print('Standard error for the difference between callback rates: {:1.4f}'.format(se))"
   ]
  },
  {
   "cell_type": "code",
   "execution_count": 7,
   "metadata": {
    "collapsed": false,
    "deletable": true,
    "editable": true
   },
   "outputs": [
    {
     "name": "stdout",
     "output_type": "stream",
     "text": [
      "95% confidence interval: (-0.047, -0.017)\n"
     ]
    }
   ],
   "source": [
    "# Find 95% and 99% confidence intervals\n",
    "crit = stats.norm.isf([0.025,0.005])\n",
    "ci_95 = [p_b-p_w-crit[0]*se, p_b-p_w+crit[0]*se]\n",
    "print(\"95% confidence interval: ({:2.3f}, {:2.3f})\".format(ci_95[0],ci_95[1]))"
   ]
  },
  {
   "cell_type": "code",
   "execution_count": 8,
   "metadata": {
    "collapsed": false,
    "deletable": true,
    "editable": true
   },
   "outputs": [
    {
     "name": "stdout",
     "output_type": "stream",
     "text": [
      "99% confidence interval: (-0.052, -0.012)\n"
     ]
    }
   ],
   "source": [
    "ci_99 = [p_b-p_w-crit[1]*se, p_b-p_w+crit[1]*se]\n",
    "print(\"99% confidence interval: ({:2.3f}, {:2.3f})\".format(ci_99[0],ci_99[1]))"
   ]
  },
  {
   "cell_type": "code",
   "execution_count": 9,
   "metadata": {
    "collapsed": false,
    "deletable": true,
    "editable": true
   },
   "outputs": [
    {
     "name": "stdout",
     "output_type": "stream",
     "text": [
      "The p-value for the test of equality of callback rates is: 0.00002\n"
     ]
    }
   ],
   "source": [
    "# compute the p-value of one-tail test\n",
    "z_stat = (p_b - p_w) / se\n",
    "p_value = stats.norm.cdf(z_stat)\n",
    "print('The p-value for the test of equality of callback rates is: {:1.5f}'.format(p_value))"
   ]
  },
  {
   "cell_type": "markdown",
   "metadata": {
    "deletable": true,
    "editable": true
   },
   "source": [
    "## 4. Write a story describing the statistical significance in the context or the original problem.\n",
    "\n",
    "Resumes with white names receive a callback rate of 9.7% as compared to 6.4% for black-sounding names. This difference of 3.3 percentage points is statistically significant since the p-value for the test of equality of callback rates is less than 0.001. Moreover, 99% confience interval indicates that the true callback rate difference could range from 1.2 percentage points to 5.2 percentage points. Therefore, based on the above data set we can conclude that U.S. labor market still faces racial discrmination in hiring.\n",
    "\n",
    "## 5. Does your analysis mean that race/name is the most important factor in callback success? Why or why not? If not, how would you amend your analysis?\n",
    "\n",
    "The analysis shows that race as indicated by names has a significant effect on callbacks for interviews; but one cannot ignore other factors, such as relevance of skills to the job description, education, years of experience etc. To further understand the factors which impact or do not impact callback rate, a certain degree of feature engineering is required."
   ]
  },
  {
   "cell_type": "code",
   "execution_count": null,
   "metadata": {},
   "outputs": [],
   "source": []
  }
 ],
 "metadata": {
  "kernelspec": {
   "display_name": "Python 3",
   "language": "python",
   "name": "python3"
  },
  "language_info": {
   "codemirror_mode": {
    "name": "ipython",
    "version": 3
   },
   "file_extension": ".py",
   "mimetype": "text/x-python",
   "name": "python",
   "nbconvert_exporter": "python",
   "pygments_lexer": "ipython3",
   "version": "3.6.5"
  }
 },
 "nbformat": 4,
 "nbformat_minor": 2
}
