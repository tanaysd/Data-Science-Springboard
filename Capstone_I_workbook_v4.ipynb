{
 "cells": [
  {
   "cell_type": "markdown",
   "metadata": {},
   "source": [
    "### Project Charter\n",
    "The intent of the project is to predict the future state of current loans as **Fully Paid or Default**. This is supposed to be achieved through training the classification algorithms on labeled data (Fully Paid & Default) and then making predictions on the dataset which contains current loans. This exercise is being done for Finance & Risk teams at Lending Club to accurately identify the end state of a loan, thus helping them with accurate revenue forecasting and risk mitigation.\n",
    "\n",
    "### Data\n",
    "[Dataset](https://www.kaggle.com/wendykan/lending-club-loan-data) used for the project, this file contain complete loan data for all loans issued through the 2007-2015, including the current loan status (Current, Late, Fully Paid, etc.) and latest payment information. The file containing loan data through the \"present\" contains complete loan data for all loans issued through the previous completed calendar quarter. Additional features include credit scores, number of finance inquiries, address including zip codes, and state, and collections among others. The file is a matrix of about 890 thousand observations and 75 variables.\n",
    "\n",
    "### Data Wrangling\n",
    "To begin with data was structured and available in a delimited file, thus initial consumption of data was straightforward. Based on EDA, there was a need to transform existing data into a format more conducive for modelling. Following attributes were derived from one or more than one attribute,\n",
    "- loan_status_bin, to condense related loan statuses into a single category\n",
    "- replace absent annual income with median annual income\n",
    "- derive numerical credit_grade from textual value\n",
    "- derive derived_income from a combination of application type, annual  income, and joint annual income\n",
    "- derive derived_dti from a combiation of application type, dti, and joint dti\n",
    "\n",
    "### Exploratory Data Analysis\n",
    "Exploratory data analysis was performed to identify correlation of various customer and loan attributes with the status of the loan; and also to identify the strength of relationship between various customer and loan attributes to develop an understanding of Lending Club customers, their reasons for taking out loan, and the type of loan they take out.  \n",
    "\n",
    "### Inferential Statistics\n",
    "As part of inferential statistics I evaluated my hypothesis about signal strength between annual income and loan status (_Fully Paid or Default_)\n",
    "\n",
    "### Feature Engineering\n",
    "Since all the features do not impact the outcome of the loan, neither do they impact the outcome of the loan equally, I worked on selecting a subset of features which correlated most strongly with the status of the loan, and used them in training the classifiers.\n",
    "\n",
    "### Model Selection\n",
    "I started with a naive Logistic Classifier, then slowly worked my way through the models with increasing complexity, Logistic Classifier with C, CART, Random Forest, XGBoost and captured their performance metrics.\n",
    "\n",
    "### Model Evaluation\n",
    "I compared the performance metrics of above models to select the best models to tune their hyper parameters to increase their accuracy.\n",
    "\n",
    "### Class Imabalance/ Resampling\n",
    "While looking at the Classification reports, I realized that there is a sever class imabalance between Default (x) and Fully Paid (10x) and thus models were better at learning features for Fully Paid loans, to overcome this challenge I used[SMOTE](https://www.cs.cmu.edu/afs/cs/project/jair/pub/volume16/chawla02a-html/chawla2002.html) to resample data to equalize sample size in **training data**\n",
    "\n",
    "### Hyper Parameter Tuning\n",
    "I employed techiniques such as RandomSearhCV & GridSearchCV to find the most optimal set of heyper parameters for multiple models.\n",
    "\n",
    "### Client Recommendations\n",
    "1. More training data especially for Default samples\n",
    "2. Deploy the best current model in production as a pilot and evaluate in live environment.\n",
    "3. Restructure the problem as a regression problem and rate the outcome of a loan on scale of 0 to 1 rather than a binary outcome\n",
    "\n",
    "### Future Work\n",
    "1. Gather more training data\n",
    "2. Try ensembling/ stacking of models.\n",
    "3. Try [deep learning techniques for tabular data](http://www.fast.ai/2018/04/29/categorical-embeddings/)\n"
   ]
  },
  {
   "cell_type": "markdown",
   "metadata": {
    "colab": {
     "autoexec": {
      "startup": false,
      "wait_interval": 0
     }
    },
    "colab_type": "code",
    "id": "Q7K3huksn3l7"
   },
   "source": [
    "### Import necessary modules"
   ]
  },
  {
   "cell_type": "code",
   "execution_count": 1,
   "metadata": {
    "colab": {
     "autoexec": {
      "startup": false,
      "wait_interval": 0
     }
    },
    "colab_type": "code",
    "id": "Q7K3huksn3l7"
   },
   "outputs": [
    {
     "name": "stderr",
     "output_type": "stream",
     "text": [
      "/usr/local/Cellar/python/3.6.5/Frameworks/Python.framework/Versions/3.6/lib/python3.6/importlib/_bootstrap.py:219: RuntimeWarning: numpy.dtype size changed, may indicate binary incompatibility. Expected 96, got 88\n",
      "  return f(*args, **kwds)\n",
      "/usr/local/Cellar/python/3.6.5/Frameworks/Python.framework/Versions/3.6/lib/python3.6/importlib/_bootstrap.py:219: RuntimeWarning: numpy.dtype size changed, may indicate binary incompatibility. Expected 96, got 88\n",
      "  return f(*args, **kwds)\n",
      "/usr/local/lib/python3.6/site-packages/statsmodels/compat/pandas.py:56: FutureWarning: The pandas.core.datetools module is deprecated and will be removed in a future version. Please use the pandas.tseries module instead.\n",
      "  from pandas.core import datetools\n",
      "/usr/local/lib/python3.6/site-packages/sklearn/ensemble/weight_boosting.py:29: DeprecationWarning: numpy.core.umath_tests is an internal NumPy module and should not be imported. It will be removed in a future NumPy release.\n",
      "  from numpy.core.umath_tests import inner1d\n"
     ]
    }
   ],
   "source": [
    "import numpy as np\n",
    "from numpy import loadtxt\n",
    "\n",
    "import pandas as pd\n",
    "import matplotlib.pyplot as plt\n",
    "import seaborn as sns\n",
    "\n",
    "%matplotlib inline\n",
    "pd.set_option('max_columns', None)\n",
    "\n",
    "from scipy import stats\n",
    "from scipy.stats import probplot\n",
    "from scipy.stats.mstats import zscore\n",
    "\n",
    "import statsmodels.stats.api as sms\n",
    "import nltk\n",
    "\n",
    "import collections as co\n",
    "from collections import Counter\n",
    "from collections import OrderedDict\n",
    "\n",
    "from sklearn import datasets\n",
    "from sklearn.datasets import make_classification\n",
    "\n",
    "from sklearn.preprocessing import StandardScaler\n",
    "from sklearn.model_selection import StratifiedKFold\n",
    "\n",
    "from sklearn.model_selection import train_test_split\n",
    "\n",
    "from sklearn.linear_model import LogisticRegression\n",
    "from sklearn.ensemble import RandomForestClassifier, ExtraTreesClassifier\n",
    "from sklearn.neighbors import KNeighborsClassifier\n",
    "from sklearn.tree import DecisionTreeClassifier\n",
    "\n",
    "from sklearn import metrics\n",
    "from sklearn.metrics import accuracy_score\n",
    "from sklearn.model_selection import KFold\n",
    "from sklearn.model_selection import RandomizedSearchCV\n",
    "from sklearn.model_selection import GridSearchCV\n",
    "\n",
    "from sklearn.pipeline import Pipeline\n",
    "\n",
    "from imblearn.over_sampling import SMOTE, ADASYN\n",
    "from imblearn.over_sampling import RandomOverSampler\n",
    "\n",
    "from xgboost import XGBClassifier\n",
    "\n",
    "#from dask_ml.model_selection import GridSearchCV"
   ]
  },
  {
   "cell_type": "markdown",
   "metadata": {},
   "source": [
    "### [Google Colab](https://colab.research.google.com/) specific section to run XGBoost "
   ]
  },
  {
   "cell_type": "code",
   "execution_count": null,
   "metadata": {
    "colab": {
     "autoexec": {
      "startup": false,
      "wait_interval": 0
     }
    },
    "colab_type": "code",
    "id": "dXenTN-FvXVw"
   },
   "outputs": [],
   "source": [
    "!pip install -U -q imbalanced-learn\n",
    "!pip install -U -q PyDrive"
   ]
  },
  {
   "cell_type": "code",
   "execution_count": null,
   "metadata": {
    "colab": {
     "autoexec": {
      "startup": false,
      "wait_interval": 0
     }
    },
    "colab_type": "code",
    "id": "xxku1jN0t0D3"
   },
   "outputs": [],
   "source": [
    "# Code to read csv file into colaboratory:\n",
    "from pydrive.auth import GoogleAuth\n",
    "from pydrive.drive import GoogleDrive\n",
    "from google.colab import auth\n",
    "from oauth2client.client import GoogleCredentials"
   ]
  },
  {
   "cell_type": "code",
   "execution_count": null,
   "metadata": {
    "colab": {
     "autoexec": {
      "startup": false,
      "wait_interval": 0
     }
    },
    "colab_type": "code",
    "id": "pAyAeQI_uF5b"
   },
   "outputs": [],
   "source": [
    "# 1. Authenticate and create the PyDrive client.\n",
    "auth.authenticate_user()\n",
    "gauth = GoogleAuth()\n",
    "gauth.credentials = GoogleCredentials.get_application_default()\n",
    "drive = GoogleDrive(gauth)"
   ]
  },
  {
   "cell_type": "code",
   "execution_count": null,
   "metadata": {
    "colab": {
     "autoexec": {
      "startup": false,
      "wait_interval": 0
     }
    },
    "colab_type": "code",
    "id": "9mSYsvvIuJvz"
   },
   "outputs": [],
   "source": [
    "#2. Get the file\n",
    "downloaded = drive.CreateFile({'id':'1iZ6FE7L8uAXOIi92PT9sosHcUUA2m8Cs'}) #get the token from execution of previous cell\n",
    "downloaded.GetContentFile('loan.csv')  "
   ]
  },
  {
   "cell_type": "code",
   "execution_count": 3,
   "metadata": {
    "colab": {
     "autoexec": {
      "startup": false,
      "wait_interval": 0
     }
    },
    "colab_type": "code",
    "id": "B6gnYg0Un3mB"
   },
   "outputs": [],
   "source": [
    "#read loans.csv as a dataframe\n",
    "loans_df = pd.read_csv('loan.csv',low_memory=False, engine='c')"
   ]
  },
  {
   "cell_type": "markdown",
   "metadata": {},
   "source": [
    "### Read file and create dataframe"
   ]
  },
  {
   "cell_type": "code",
   "execution_count": 7,
   "metadata": {},
   "outputs": [],
   "source": [
    "loans_df = pd.read_csv('~/Downloads/tanay/data_springboard/loan.csv',low_memory=False, engine='c')"
   ]
  },
  {
   "cell_type": "markdown",
   "metadata": {},
   "source": [
    "### Inspect Dataframe"
   ]
  },
  {
   "cell_type": "code",
   "execution_count": 4,
   "metadata": {
    "colab": {
     "autoexec": {
      "startup": false,
      "wait_interval": 0
     },
     "base_uri": "https://localhost:8080/",
     "height": 357
    },
    "colab_type": "code",
    "executionInfo": {
     "elapsed": 461,
     "status": "ok",
     "timestamp": 1533013501400,
     "user": {
      "displayName": "Tanay Sood",
      "photoUrl": "//lh3.googleusercontent.com/-2M5-3q3S6Qk/AAAAAAAAAAI/AAAAAAAABTc/dmS5NxrNt0g/s50-c-k-no/photo.jpg",
      "userId": "113123360936150899713"
     },
     "user_tz": 420
    },
    "id": "OuQ8gCW8n3mG",
    "outputId": "cf0df966-72a3-441f-b032-f07bdfecdc76"
   },
   "outputs": [
    {
     "data": {
      "text/html": [
       "<div>\n",
       "<style scoped>\n",
       "    .dataframe tbody tr th:only-of-type {\n",
       "        vertical-align: middle;\n",
       "    }\n",
       "\n",
       "    .dataframe tbody tr th {\n",
       "        vertical-align: top;\n",
       "    }\n",
       "\n",
       "    .dataframe thead th {\n",
       "        text-align: right;\n",
       "    }\n",
       "</style>\n",
       "<table border=\"1\" class=\"dataframe\">\n",
       "  <thead>\n",
       "    <tr style=\"text-align: right;\">\n",
       "      <th></th>\n",
       "      <th>id</th>\n",
       "      <th>member_id</th>\n",
       "      <th>loan_amnt</th>\n",
       "      <th>funded_amnt</th>\n",
       "      <th>funded_amnt_inv</th>\n",
       "      <th>int_rate</th>\n",
       "      <th>installment</th>\n",
       "      <th>annual_inc</th>\n",
       "      <th>dti</th>\n",
       "      <th>delinq_2yrs</th>\n",
       "      <th>inq_last_6mths</th>\n",
       "      <th>mths_since_last_delinq</th>\n",
       "      <th>mths_since_last_record</th>\n",
       "      <th>open_acc</th>\n",
       "      <th>pub_rec</th>\n",
       "      <th>revol_bal</th>\n",
       "      <th>revol_util</th>\n",
       "      <th>total_acc</th>\n",
       "      <th>out_prncp</th>\n",
       "      <th>out_prncp_inv</th>\n",
       "      <th>total_pymnt</th>\n",
       "      <th>total_pymnt_inv</th>\n",
       "      <th>total_rec_prncp</th>\n",
       "      <th>total_rec_int</th>\n",
       "      <th>total_rec_late_fee</th>\n",
       "      <th>recoveries</th>\n",
       "      <th>collection_recovery_fee</th>\n",
       "      <th>last_pymnt_amnt</th>\n",
       "      <th>collections_12_mths_ex_med</th>\n",
       "      <th>mths_since_last_major_derog</th>\n",
       "      <th>policy_code</th>\n",
       "      <th>annual_inc_joint</th>\n",
       "      <th>dti_joint</th>\n",
       "      <th>acc_now_delinq</th>\n",
       "      <th>tot_coll_amt</th>\n",
       "      <th>tot_cur_bal</th>\n",
       "      <th>open_acc_6m</th>\n",
       "      <th>open_il_6m</th>\n",
       "      <th>open_il_12m</th>\n",
       "      <th>open_il_24m</th>\n",
       "      <th>mths_since_rcnt_il</th>\n",
       "      <th>total_bal_il</th>\n",
       "      <th>il_util</th>\n",
       "      <th>open_rv_12m</th>\n",
       "      <th>open_rv_24m</th>\n",
       "      <th>max_bal_bc</th>\n",
       "      <th>all_util</th>\n",
       "      <th>total_rev_hi_lim</th>\n",
       "      <th>inq_fi</th>\n",
       "      <th>total_cu_tl</th>\n",
       "      <th>inq_last_12m</th>\n",
       "    </tr>\n",
       "  </thead>\n",
       "  <tbody>\n",
       "    <tr>\n",
       "      <th>count</th>\n",
       "      <td>8.873790e+05</td>\n",
       "      <td>8.873790e+05</td>\n",
       "      <td>887379.000000</td>\n",
       "      <td>887379.000000</td>\n",
       "      <td>887379.000000</td>\n",
       "      <td>887379.000000</td>\n",
       "      <td>887379.000000</td>\n",
       "      <td>8.873750e+05</td>\n",
       "      <td>887379.000000</td>\n",
       "      <td>887350.000000</td>\n",
       "      <td>887350.000000</td>\n",
       "      <td>433067.000000</td>\n",
       "      <td>137053.000000</td>\n",
       "      <td>887350.000000</td>\n",
       "      <td>887350.000000</td>\n",
       "      <td>8.873790e+05</td>\n",
       "      <td>886877.000000</td>\n",
       "      <td>887350.000000</td>\n",
       "      <td>887379.000000</td>\n",
       "      <td>887379.000000</td>\n",
       "      <td>887379.000000</td>\n",
       "      <td>887379.000000</td>\n",
       "      <td>887379.000000</td>\n",
       "      <td>887379.000000</td>\n",
       "      <td>887379.000000</td>\n",
       "      <td>887379.000000</td>\n",
       "      <td>887379.000000</td>\n",
       "      <td>887379.000000</td>\n",
       "      <td>887234.000000</td>\n",
       "      <td>221703.000000</td>\n",
       "      <td>887379.0</td>\n",
       "      <td>511.000000</td>\n",
       "      <td>509.000000</td>\n",
       "      <td>887350.000000</td>\n",
       "      <td>8.171030e+05</td>\n",
       "      <td>8.171030e+05</td>\n",
       "      <td>21372.000000</td>\n",
       "      <td>21372.000000</td>\n",
       "      <td>21372.000000</td>\n",
       "      <td>21372.000000</td>\n",
       "      <td>20810.000000</td>\n",
       "      <td>21372.000000</td>\n",
       "      <td>18617.000000</td>\n",
       "      <td>21372.000000</td>\n",
       "      <td>21372.000000</td>\n",
       "      <td>21372.000000</td>\n",
       "      <td>21372.000000</td>\n",
       "      <td>8.171030e+05</td>\n",
       "      <td>21372.000000</td>\n",
       "      <td>21372.000000</td>\n",
       "      <td>21372.000000</td>\n",
       "    </tr>\n",
       "    <tr>\n",
       "      <th>mean</th>\n",
       "      <td>3.246513e+07</td>\n",
       "      <td>3.500182e+07</td>\n",
       "      <td>14755.264605</td>\n",
       "      <td>14741.877625</td>\n",
       "      <td>14702.464383</td>\n",
       "      <td>13.246740</td>\n",
       "      <td>436.717127</td>\n",
       "      <td>7.502759e+04</td>\n",
       "      <td>18.157039</td>\n",
       "      <td>0.314442</td>\n",
       "      <td>0.694623</td>\n",
       "      <td>34.063798</td>\n",
       "      <td>70.117903</td>\n",
       "      <td>11.548469</td>\n",
       "      <td>0.195307</td>\n",
       "      <td>1.692079e+04</td>\n",
       "      <td>55.067693</td>\n",
       "      <td>25.268026</td>\n",
       "      <td>8403.124852</td>\n",
       "      <td>8399.713242</td>\n",
       "      <td>7558.826684</td>\n",
       "      <td>7521.160306</td>\n",
       "      <td>5757.706424</td>\n",
       "      <td>1754.804327</td>\n",
       "      <td>0.396692</td>\n",
       "      <td>45.919243</td>\n",
       "      <td>4.880757</td>\n",
       "      <td>2164.145585</td>\n",
       "      <td>0.014380</td>\n",
       "      <td>44.104838</td>\n",
       "      <td>1.0</td>\n",
       "      <td>109981.011585</td>\n",
       "      <td>18.310118</td>\n",
       "      <td>0.004991</td>\n",
       "      <td>2.257026e+02</td>\n",
       "      <td>1.394582e+05</td>\n",
       "      <td>1.109021</td>\n",
       "      <td>2.928832</td>\n",
       "      <td>0.761651</td>\n",
       "      <td>1.674574</td>\n",
       "      <td>20.912686</td>\n",
       "      <td>36552.811389</td>\n",
       "      <td>71.535317</td>\n",
       "      <td>1.389060</td>\n",
       "      <td>2.975482</td>\n",
       "      <td>5887.979740</td>\n",
       "      <td>60.831939</td>\n",
       "      <td>3.206862e+04</td>\n",
       "      <td>0.943945</td>\n",
       "      <td>1.537058</td>\n",
       "      <td>1.977307</td>\n",
       "    </tr>\n",
       "    <tr>\n",
       "      <th>std</th>\n",
       "      <td>2.282734e+07</td>\n",
       "      <td>2.411335e+07</td>\n",
       "      <td>8435.455601</td>\n",
       "      <td>8429.897657</td>\n",
       "      <td>8442.106732</td>\n",
       "      <td>4.381867</td>\n",
       "      <td>244.186593</td>\n",
       "      <td>6.469830e+04</td>\n",
       "      <td>17.190626</td>\n",
       "      <td>0.862244</td>\n",
       "      <td>0.998448</td>\n",
       "      <td>21.884940</td>\n",
       "      <td>28.127914</td>\n",
       "      <td>5.317313</td>\n",
       "      <td>0.582091</td>\n",
       "      <td>2.242679e+04</td>\n",
       "      <td>23.834344</td>\n",
       "      <td>11.840561</td>\n",
       "      <td>8493.450269</td>\n",
       "      <td>8489.997617</td>\n",
       "      <td>7871.243336</td>\n",
       "      <td>7846.108604</td>\n",
       "      <td>6625.441046</td>\n",
       "      <td>2095.356099</td>\n",
       "      <td>4.087825</td>\n",
       "      <td>409.693874</td>\n",
       "      <td>63.125281</td>\n",
       "      <td>4794.783233</td>\n",
       "      <td>0.134191</td>\n",
       "      <td>22.179841</td>\n",
       "      <td>0.0</td>\n",
       "      <td>52730.379847</td>\n",
       "      <td>7.169233</td>\n",
       "      <td>0.077625</td>\n",
       "      <td>1.031137e+04</td>\n",
       "      <td>1.537500e+05</td>\n",
       "      <td>1.242675</td>\n",
       "      <td>3.089987</td>\n",
       "      <td>0.996035</td>\n",
       "      <td>1.688725</td>\n",
       "      <td>27.209081</td>\n",
       "      <td>43103.833619</td>\n",
       "      <td>23.022862</td>\n",
       "      <td>1.520129</td>\n",
       "      <td>2.631886</td>\n",
       "      <td>5284.701239</td>\n",
       "      <td>20.013254</td>\n",
       "      <td>3.749826e+04</td>\n",
       "      <td>1.446872</td>\n",
       "      <td>2.723339</td>\n",
       "      <td>2.874067</td>\n",
       "    </tr>\n",
       "    <tr>\n",
       "      <th>min</th>\n",
       "      <td>5.473400e+04</td>\n",
       "      <td>7.047300e+04</td>\n",
       "      <td>500.000000</td>\n",
       "      <td>500.000000</td>\n",
       "      <td>0.000000</td>\n",
       "      <td>5.320000</td>\n",
       "      <td>15.670000</td>\n",
       "      <td>0.000000e+00</td>\n",
       "      <td>0.000000</td>\n",
       "      <td>0.000000</td>\n",
       "      <td>0.000000</td>\n",
       "      <td>0.000000</td>\n",
       "      <td>0.000000</td>\n",
       "      <td>0.000000</td>\n",
       "      <td>0.000000</td>\n",
       "      <td>0.000000e+00</td>\n",
       "      <td>0.000000</td>\n",
       "      <td>1.000000</td>\n",
       "      <td>0.000000</td>\n",
       "      <td>0.000000</td>\n",
       "      <td>0.000000</td>\n",
       "      <td>0.000000</td>\n",
       "      <td>0.000000</td>\n",
       "      <td>0.000000</td>\n",
       "      <td>0.000000</td>\n",
       "      <td>0.000000</td>\n",
       "      <td>0.000000</td>\n",
       "      <td>0.000000</td>\n",
       "      <td>0.000000</td>\n",
       "      <td>0.000000</td>\n",
       "      <td>1.0</td>\n",
       "      <td>17950.000000</td>\n",
       "      <td>3.000000</td>\n",
       "      <td>0.000000</td>\n",
       "      <td>0.000000e+00</td>\n",
       "      <td>0.000000e+00</td>\n",
       "      <td>0.000000</td>\n",
       "      <td>0.000000</td>\n",
       "      <td>0.000000</td>\n",
       "      <td>0.000000</td>\n",
       "      <td>0.000000</td>\n",
       "      <td>0.000000</td>\n",
       "      <td>0.000000</td>\n",
       "      <td>0.000000</td>\n",
       "      <td>0.000000</td>\n",
       "      <td>0.000000</td>\n",
       "      <td>0.000000</td>\n",
       "      <td>0.000000e+00</td>\n",
       "      <td>0.000000</td>\n",
       "      <td>0.000000</td>\n",
       "      <td>-4.000000</td>\n",
       "    </tr>\n",
       "    <tr>\n",
       "      <th>25%</th>\n",
       "      <td>9.206643e+06</td>\n",
       "      <td>1.087713e+07</td>\n",
       "      <td>8000.000000</td>\n",
       "      <td>8000.000000</td>\n",
       "      <td>8000.000000</td>\n",
       "      <td>9.990000</td>\n",
       "      <td>260.705000</td>\n",
       "      <td>4.500000e+04</td>\n",
       "      <td>11.910000</td>\n",
       "      <td>0.000000</td>\n",
       "      <td>0.000000</td>\n",
       "      <td>15.000000</td>\n",
       "      <td>51.000000</td>\n",
       "      <td>8.000000</td>\n",
       "      <td>0.000000</td>\n",
       "      <td>6.443000e+03</td>\n",
       "      <td>37.700000</td>\n",
       "      <td>17.000000</td>\n",
       "      <td>0.000000</td>\n",
       "      <td>0.000000</td>\n",
       "      <td>1914.590000</td>\n",
       "      <td>1899.700000</td>\n",
       "      <td>1200.570000</td>\n",
       "      <td>441.460000</td>\n",
       "      <td>0.000000</td>\n",
       "      <td>0.000000</td>\n",
       "      <td>0.000000</td>\n",
       "      <td>280.170000</td>\n",
       "      <td>0.000000</td>\n",
       "      <td>27.000000</td>\n",
       "      <td>1.0</td>\n",
       "      <td>76032.500000</td>\n",
       "      <td>13.200000</td>\n",
       "      <td>0.000000</td>\n",
       "      <td>0.000000e+00</td>\n",
       "      <td>2.985300e+04</td>\n",
       "      <td>0.000000</td>\n",
       "      <td>1.000000</td>\n",
       "      <td>0.000000</td>\n",
       "      <td>0.000000</td>\n",
       "      <td>6.000000</td>\n",
       "      <td>10251.500000</td>\n",
       "      <td>58.600000</td>\n",
       "      <td>0.000000</td>\n",
       "      <td>1.000000</td>\n",
       "      <td>2411.000000</td>\n",
       "      <td>47.700000</td>\n",
       "      <td>1.390000e+04</td>\n",
       "      <td>0.000000</td>\n",
       "      <td>0.000000</td>\n",
       "      <td>0.000000</td>\n",
       "    </tr>\n",
       "    <tr>\n",
       "      <th>50%</th>\n",
       "      <td>3.443327e+07</td>\n",
       "      <td>3.709528e+07</td>\n",
       "      <td>13000.000000</td>\n",
       "      <td>13000.000000</td>\n",
       "      <td>13000.000000</td>\n",
       "      <td>12.990000</td>\n",
       "      <td>382.550000</td>\n",
       "      <td>6.500000e+04</td>\n",
       "      <td>17.650000</td>\n",
       "      <td>0.000000</td>\n",
       "      <td>0.000000</td>\n",
       "      <td>31.000000</td>\n",
       "      <td>70.000000</td>\n",
       "      <td>11.000000</td>\n",
       "      <td>0.000000</td>\n",
       "      <td>1.187500e+04</td>\n",
       "      <td>56.000000</td>\n",
       "      <td>24.000000</td>\n",
       "      <td>6458.290000</td>\n",
       "      <td>6455.810000</td>\n",
       "      <td>4894.999117</td>\n",
       "      <td>4862.010000</td>\n",
       "      <td>3215.320000</td>\n",
       "      <td>1073.280000</td>\n",
       "      <td>0.000000</td>\n",
       "      <td>0.000000</td>\n",
       "      <td>0.000000</td>\n",
       "      <td>462.780000</td>\n",
       "      <td>0.000000</td>\n",
       "      <td>44.000000</td>\n",
       "      <td>1.0</td>\n",
       "      <td>101771.000000</td>\n",
       "      <td>17.610000</td>\n",
       "      <td>0.000000</td>\n",
       "      <td>0.000000e+00</td>\n",
       "      <td>8.055900e+04</td>\n",
       "      <td>1.000000</td>\n",
       "      <td>2.000000</td>\n",
       "      <td>0.000000</td>\n",
       "      <td>1.000000</td>\n",
       "      <td>12.000000</td>\n",
       "      <td>24684.500000</td>\n",
       "      <td>74.900000</td>\n",
       "      <td>1.000000</td>\n",
       "      <td>2.000000</td>\n",
       "      <td>4483.000000</td>\n",
       "      <td>61.900000</td>\n",
       "      <td>2.370000e+04</td>\n",
       "      <td>0.000000</td>\n",
       "      <td>0.000000</td>\n",
       "      <td>2.000000</td>\n",
       "    </tr>\n",
       "    <tr>\n",
       "      <th>75%</th>\n",
       "      <td>5.490814e+07</td>\n",
       "      <td>5.847135e+07</td>\n",
       "      <td>20000.000000</td>\n",
       "      <td>20000.000000</td>\n",
       "      <td>20000.000000</td>\n",
       "      <td>16.200000</td>\n",
       "      <td>572.600000</td>\n",
       "      <td>9.000000e+04</td>\n",
       "      <td>23.950000</td>\n",
       "      <td>0.000000</td>\n",
       "      <td>1.000000</td>\n",
       "      <td>50.000000</td>\n",
       "      <td>92.000000</td>\n",
       "      <td>14.000000</td>\n",
       "      <td>0.000000</td>\n",
       "      <td>2.082900e+04</td>\n",
       "      <td>73.600000</td>\n",
       "      <td>32.000000</td>\n",
       "      <td>13659.055000</td>\n",
       "      <td>13654.050000</td>\n",
       "      <td>10616.814231</td>\n",
       "      <td>10565.690000</td>\n",
       "      <td>8000.000000</td>\n",
       "      <td>2238.265000</td>\n",
       "      <td>0.000000</td>\n",
       "      <td>0.000000</td>\n",
       "      <td>0.000000</td>\n",
       "      <td>831.245000</td>\n",
       "      <td>0.000000</td>\n",
       "      <td>61.000000</td>\n",
       "      <td>1.0</td>\n",
       "      <td>132800.000000</td>\n",
       "      <td>22.650000</td>\n",
       "      <td>0.000000</td>\n",
       "      <td>0.000000e+00</td>\n",
       "      <td>2.082050e+05</td>\n",
       "      <td>2.000000</td>\n",
       "      <td>4.000000</td>\n",
       "      <td>1.000000</td>\n",
       "      <td>2.000000</td>\n",
       "      <td>23.000000</td>\n",
       "      <td>47858.000000</td>\n",
       "      <td>87.600000</td>\n",
       "      <td>2.000000</td>\n",
       "      <td>4.000000</td>\n",
       "      <td>7771.500000</td>\n",
       "      <td>75.200000</td>\n",
       "      <td>3.980000e+04</td>\n",
       "      <td>1.000000</td>\n",
       "      <td>2.000000</td>\n",
       "      <td>3.000000</td>\n",
       "    </tr>\n",
       "    <tr>\n",
       "      <th>max</th>\n",
       "      <td>6.861706e+07</td>\n",
       "      <td>7.354484e+07</td>\n",
       "      <td>35000.000000</td>\n",
       "      <td>35000.000000</td>\n",
       "      <td>35000.000000</td>\n",
       "      <td>28.990000</td>\n",
       "      <td>1445.460000</td>\n",
       "      <td>9.500000e+06</td>\n",
       "      <td>9999.000000</td>\n",
       "      <td>39.000000</td>\n",
       "      <td>33.000000</td>\n",
       "      <td>188.000000</td>\n",
       "      <td>129.000000</td>\n",
       "      <td>90.000000</td>\n",
       "      <td>86.000000</td>\n",
       "      <td>2.904836e+06</td>\n",
       "      <td>892.300000</td>\n",
       "      <td>169.000000</td>\n",
       "      <td>49372.860000</td>\n",
       "      <td>49372.860000</td>\n",
       "      <td>57777.579870</td>\n",
       "      <td>57777.580000</td>\n",
       "      <td>35000.030000</td>\n",
       "      <td>24205.620000</td>\n",
       "      <td>358.680000</td>\n",
       "      <td>33520.270000</td>\n",
       "      <td>7002.190000</td>\n",
       "      <td>36475.590000</td>\n",
       "      <td>20.000000</td>\n",
       "      <td>188.000000</td>\n",
       "      <td>1.0</td>\n",
       "      <td>500000.000000</td>\n",
       "      <td>43.860000</td>\n",
       "      <td>14.000000</td>\n",
       "      <td>9.152545e+06</td>\n",
       "      <td>8.000078e+06</td>\n",
       "      <td>14.000000</td>\n",
       "      <td>40.000000</td>\n",
       "      <td>12.000000</td>\n",
       "      <td>19.000000</td>\n",
       "      <td>363.000000</td>\n",
       "      <td>878459.000000</td>\n",
       "      <td>223.300000</td>\n",
       "      <td>22.000000</td>\n",
       "      <td>43.000000</td>\n",
       "      <td>127305.000000</td>\n",
       "      <td>151.400000</td>\n",
       "      <td>9.999999e+06</td>\n",
       "      <td>17.000000</td>\n",
       "      <td>35.000000</td>\n",
       "      <td>32.000000</td>\n",
       "    </tr>\n",
       "  </tbody>\n",
       "</table>\n",
       "</div>"
      ],
      "text/plain": [
       "                 id     member_id      loan_amnt    funded_amnt  \\\n",
       "count  8.873790e+05  8.873790e+05  887379.000000  887379.000000   \n",
       "mean   3.246513e+07  3.500182e+07   14755.264605   14741.877625   \n",
       "std    2.282734e+07  2.411335e+07    8435.455601    8429.897657   \n",
       "min    5.473400e+04  7.047300e+04     500.000000     500.000000   \n",
       "25%    9.206643e+06  1.087713e+07    8000.000000    8000.000000   \n",
       "50%    3.443327e+07  3.709528e+07   13000.000000   13000.000000   \n",
       "75%    5.490814e+07  5.847135e+07   20000.000000   20000.000000   \n",
       "max    6.861706e+07  7.354484e+07   35000.000000   35000.000000   \n",
       "\n",
       "       funded_amnt_inv       int_rate    installment    annual_inc  \\\n",
       "count    887379.000000  887379.000000  887379.000000  8.873750e+05   \n",
       "mean      14702.464383      13.246740     436.717127  7.502759e+04   \n",
       "std        8442.106732       4.381867     244.186593  6.469830e+04   \n",
       "min           0.000000       5.320000      15.670000  0.000000e+00   \n",
       "25%        8000.000000       9.990000     260.705000  4.500000e+04   \n",
       "50%       13000.000000      12.990000     382.550000  6.500000e+04   \n",
       "75%       20000.000000      16.200000     572.600000  9.000000e+04   \n",
       "max       35000.000000      28.990000    1445.460000  9.500000e+06   \n",
       "\n",
       "                 dti    delinq_2yrs  inq_last_6mths  mths_since_last_delinq  \\\n",
       "count  887379.000000  887350.000000   887350.000000           433067.000000   \n",
       "mean       18.157039       0.314442        0.694623               34.063798   \n",
       "std        17.190626       0.862244        0.998448               21.884940   \n",
       "min         0.000000       0.000000        0.000000                0.000000   \n",
       "25%        11.910000       0.000000        0.000000               15.000000   \n",
       "50%        17.650000       0.000000        0.000000               31.000000   \n",
       "75%        23.950000       0.000000        1.000000               50.000000   \n",
       "max      9999.000000      39.000000       33.000000              188.000000   \n",
       "\n",
       "       mths_since_last_record       open_acc        pub_rec     revol_bal  \\\n",
       "count           137053.000000  887350.000000  887350.000000  8.873790e+05   \n",
       "mean                70.117903      11.548469       0.195307  1.692079e+04   \n",
       "std                 28.127914       5.317313       0.582091  2.242679e+04   \n",
       "min                  0.000000       0.000000       0.000000  0.000000e+00   \n",
       "25%                 51.000000       8.000000       0.000000  6.443000e+03   \n",
       "50%                 70.000000      11.000000       0.000000  1.187500e+04   \n",
       "75%                 92.000000      14.000000       0.000000  2.082900e+04   \n",
       "max                129.000000      90.000000      86.000000  2.904836e+06   \n",
       "\n",
       "          revol_util      total_acc      out_prncp  out_prncp_inv  \\\n",
       "count  886877.000000  887350.000000  887379.000000  887379.000000   \n",
       "mean       55.067693      25.268026    8403.124852    8399.713242   \n",
       "std        23.834344      11.840561    8493.450269    8489.997617   \n",
       "min         0.000000       1.000000       0.000000       0.000000   \n",
       "25%        37.700000      17.000000       0.000000       0.000000   \n",
       "50%        56.000000      24.000000    6458.290000    6455.810000   \n",
       "75%        73.600000      32.000000   13659.055000   13654.050000   \n",
       "max       892.300000     169.000000   49372.860000   49372.860000   \n",
       "\n",
       "         total_pymnt  total_pymnt_inv  total_rec_prncp  total_rec_int  \\\n",
       "count  887379.000000    887379.000000    887379.000000  887379.000000   \n",
       "mean     7558.826684      7521.160306      5757.706424    1754.804327   \n",
       "std      7871.243336      7846.108604      6625.441046    2095.356099   \n",
       "min         0.000000         0.000000         0.000000       0.000000   \n",
       "25%      1914.590000      1899.700000      1200.570000     441.460000   \n",
       "50%      4894.999117      4862.010000      3215.320000    1073.280000   \n",
       "75%     10616.814231     10565.690000      8000.000000    2238.265000   \n",
       "max     57777.579870     57777.580000     35000.030000   24205.620000   \n",
       "\n",
       "       total_rec_late_fee     recoveries  collection_recovery_fee  \\\n",
       "count       887379.000000  887379.000000            887379.000000   \n",
       "mean             0.396692      45.919243                 4.880757   \n",
       "std              4.087825     409.693874                63.125281   \n",
       "min              0.000000       0.000000                 0.000000   \n",
       "25%              0.000000       0.000000                 0.000000   \n",
       "50%              0.000000       0.000000                 0.000000   \n",
       "75%              0.000000       0.000000                 0.000000   \n",
       "max            358.680000   33520.270000              7002.190000   \n",
       "\n",
       "       last_pymnt_amnt  collections_12_mths_ex_med  \\\n",
       "count    887379.000000               887234.000000   \n",
       "mean       2164.145585                    0.014380   \n",
       "std        4794.783233                    0.134191   \n",
       "min           0.000000                    0.000000   \n",
       "25%         280.170000                    0.000000   \n",
       "50%         462.780000                    0.000000   \n",
       "75%         831.245000                    0.000000   \n",
       "max       36475.590000                   20.000000   \n",
       "\n",
       "       mths_since_last_major_derog  policy_code  annual_inc_joint   dti_joint  \\\n",
       "count                221703.000000     887379.0        511.000000  509.000000   \n",
       "mean                     44.104838          1.0     109981.011585   18.310118   \n",
       "std                      22.179841          0.0      52730.379847    7.169233   \n",
       "min                       0.000000          1.0      17950.000000    3.000000   \n",
       "25%                      27.000000          1.0      76032.500000   13.200000   \n",
       "50%                      44.000000          1.0     101771.000000   17.610000   \n",
       "75%                      61.000000          1.0     132800.000000   22.650000   \n",
       "max                     188.000000          1.0     500000.000000   43.860000   \n",
       "\n",
       "       acc_now_delinq  tot_coll_amt   tot_cur_bal   open_acc_6m    open_il_6m  \\\n",
       "count   887350.000000  8.171030e+05  8.171030e+05  21372.000000  21372.000000   \n",
       "mean         0.004991  2.257026e+02  1.394582e+05      1.109021      2.928832   \n",
       "std          0.077625  1.031137e+04  1.537500e+05      1.242675      3.089987   \n",
       "min          0.000000  0.000000e+00  0.000000e+00      0.000000      0.000000   \n",
       "25%          0.000000  0.000000e+00  2.985300e+04      0.000000      1.000000   \n",
       "50%          0.000000  0.000000e+00  8.055900e+04      1.000000      2.000000   \n",
       "75%          0.000000  0.000000e+00  2.082050e+05      2.000000      4.000000   \n",
       "max         14.000000  9.152545e+06  8.000078e+06     14.000000     40.000000   \n",
       "\n",
       "        open_il_12m   open_il_24m  mths_since_rcnt_il   total_bal_il  \\\n",
       "count  21372.000000  21372.000000        20810.000000   21372.000000   \n",
       "mean       0.761651      1.674574           20.912686   36552.811389   \n",
       "std        0.996035      1.688725           27.209081   43103.833619   \n",
       "min        0.000000      0.000000            0.000000       0.000000   \n",
       "25%        0.000000      0.000000            6.000000   10251.500000   \n",
       "50%        0.000000      1.000000           12.000000   24684.500000   \n",
       "75%        1.000000      2.000000           23.000000   47858.000000   \n",
       "max       12.000000     19.000000          363.000000  878459.000000   \n",
       "\n",
       "            il_util   open_rv_12m   open_rv_24m     max_bal_bc      all_util  \\\n",
       "count  18617.000000  21372.000000  21372.000000   21372.000000  21372.000000   \n",
       "mean      71.535317      1.389060      2.975482    5887.979740     60.831939   \n",
       "std       23.022862      1.520129      2.631886    5284.701239     20.013254   \n",
       "min        0.000000      0.000000      0.000000       0.000000      0.000000   \n",
       "25%       58.600000      0.000000      1.000000    2411.000000     47.700000   \n",
       "50%       74.900000      1.000000      2.000000    4483.000000     61.900000   \n",
       "75%       87.600000      2.000000      4.000000    7771.500000     75.200000   \n",
       "max      223.300000     22.000000     43.000000  127305.000000    151.400000   \n",
       "\n",
       "       total_rev_hi_lim        inq_fi   total_cu_tl  inq_last_12m  \n",
       "count      8.171030e+05  21372.000000  21372.000000  21372.000000  \n",
       "mean       3.206862e+04      0.943945      1.537058      1.977307  \n",
       "std        3.749826e+04      1.446872      2.723339      2.874067  \n",
       "min        0.000000e+00      0.000000      0.000000     -4.000000  \n",
       "25%        1.390000e+04      0.000000      0.000000      0.000000  \n",
       "50%        2.370000e+04      0.000000      0.000000      2.000000  \n",
       "75%        3.980000e+04      1.000000      2.000000      3.000000  \n",
       "max        9.999999e+06     17.000000     35.000000     32.000000  "
      ]
     },
     "execution_count": 4,
     "metadata": {},
     "output_type": "execute_result"
    }
   ],
   "source": [
    "loans_df.describe()"
   ]
  },
  {
   "cell_type": "code",
   "execution_count": 9,
   "metadata": {
    "colab": {
     "autoexec": {
      "startup": false,
      "wait_interval": 0
     },
     "base_uri": "https://localhost:8080/",
     "height": 204
    },
    "colab_type": "code",
    "executionInfo": {
     "elapsed": 434,
     "status": "ok",
     "timestamp": 1533013502974,
     "user": {
      "displayName": "Tanay Sood",
      "photoUrl": "//lh3.googleusercontent.com/-2M5-3q3S6Qk/AAAAAAAAAAI/AAAAAAAABTc/dmS5NxrNt0g/s50-c-k-no/photo.jpg",
      "userId": "113123360936150899713"
     },
     "user_tz": 420
    },
    "id": "BJWJzQ4Dn3mN",
    "outputId": "c883eef3-5b07-401c-a1d2-e490b8251641"
   },
   "outputs": [
    {
     "data": {
      "text/plain": [
       "Current                                                601779\n",
       "Fully Paid                                             207723\n",
       "Charged Off                                             45248\n",
       "Late (31-120 days)                                      11591\n",
       "Issued                                                   8460\n",
       "In Grace Period                                          6253\n",
       "Late (16-30 days)                                        2357\n",
       "Does not meet the credit policy. Status:Fully Paid       1988\n",
       "Default                                                  1219\n",
       "Does not meet the credit policy. Status:Charged Off       761\n",
       "Name: loan_status, dtype: int64"
      ]
     },
     "execution_count": 9,
     "metadata": {},
     "output_type": "execute_result"
    }
   ],
   "source": [
    "loans_df['loan_status'].value_counts()"
   ]
  },
  {
   "cell_type": "code",
   "execution_count": 10,
   "metadata": {
    "colab": {
     "autoexec": {
      "startup": false,
      "wait_interval": 0
     },
     "base_uri": "https://localhost:8080/",
     "height": 395
    },
    "colab_type": "code",
    "executionInfo": {
     "elapsed": 893,
     "status": "ok",
     "timestamp": 1533013504806,
     "user": {
      "displayName": "Tanay Sood",
      "photoUrl": "//lh3.googleusercontent.com/-2M5-3q3S6Qk/AAAAAAAAAAI/AAAAAAAABTc/dmS5NxrNt0g/s50-c-k-no/photo.jpg",
      "userId": "113123360936150899713"
     },
     "user_tz": 420
    },
    "id": "7Nlpu7utn3mU",
    "outputId": "717c55ce-1fd8-47a9-867e-7b2549d10de3"
   },
   "outputs": [
    {
     "data": {
      "image/png": "[encoded data removed]",
      "text/plain": [
       "<Figure size 432x288 with 1 Axes>"
      ]
     },
     "metadata": {},
     "output_type": "display_data"
    }
   ],
   "source": [
    "sns.set(style='darkgrid')\n",
    "_=sns.countplot(y='loan_status', data=loans_df, order = loans_df['loan_status'].value_counts().index, orient='h')"
   ]
  },
  {
   "cell_type": "markdown",
   "metadata": {
    "colab": {
     "autoexec": {
      "startup": false,
      "wait_interval": 0
     }
    },
    "colab_type": "code",
    "id": "wB4DTiZ7n3mu"
   },
   "source": [
    "### Creation of new features based on translation of existing features "
   ]
  },
  {
   "cell_type": "code",
   "execution_count": 11,
   "metadata": {
    "colab": {
     "autoexec": {
      "startup": false,
      "wait_interval": 0
     }
    },
    "colab_type": "code",
    "id": "wB4DTiZ7n3mu"
   },
   "outputs": [],
   "source": [
    "#define a function to classify loan status into one of the following bins ('Fully Paid', 'Default', 'Current')\n",
    "def loan_status_bin(text):\n",
    "    if text in ('Fully Paid', 'Does not meet the credit policy. Status:Fully Paid'):\n",
    "        return 'Fully Paid'\n",
    "    elif text in ('Current', 'Issued'):\n",
    "        return 'Current'\n",
    "    elif text in ('Charged Off', 'Default', 'Does not meet the credit policy. Status:Charged Off', 'Late (16-30 days)', 'Late (31-120 days)', 'In Grace Period'):\n",
    "        return 'Default'\n",
    "    else:\n",
    "        'UNKNOWN BIN'"
   ]
  },
  {
   "cell_type": "code",
   "execution_count": 12,
   "metadata": {
    "colab": {
     "autoexec": {
      "startup": false,
      "wait_interval": 0
     },
     "base_uri": "https://localhost:8080/",
     "height": 34
    },
    "colab_type": "code",
    "executionInfo": {
     "elapsed": 491,
     "status": "ok",
     "timestamp": 1533013507812,
     "user": {
      "displayName": "Tanay Sood",
      "photoUrl": "//lh3.googleusercontent.com/-2M5-3q3S6Qk/AAAAAAAAAAI/AAAAAAAABTc/dmS5NxrNt0g/s50-c-k-no/photo.jpg",
      "userId": "113123360936150899713"
     },
     "user_tz": 420
    },
    "id": "BSAd_wmJn3mz",
    "outputId": "d2e9c219-d5fe-43a2-f892-7dbdeb68b407"
   },
   "outputs": [
    {
     "data": {
      "text/plain": [
       "array(['Fully Paid', 'Default', 'Current'], dtype=object)"
      ]
     },
     "execution_count": 12,
     "metadata": {},
     "output_type": "execute_result"
    }
   ],
   "source": [
    "#create a new attribute 'loan_status_bin' in the dataframe\n",
    "loans_df['loan_status_bin']=loans_df['loan_status'].apply(loan_status_bin)\n",
    "loans_df['loan_status_bin'].unique()"
   ]
  },
  {
   "cell_type": "code",
   "execution_count": 13,
   "metadata": {
    "colab": {
     "autoexec": {
      "startup": false,
      "wait_interval": 0
     },
     "base_uri": "https://localhost:8080/",
     "height": 395
    },
    "colab_type": "code",
    "executionInfo": {
     "elapsed": 574,
     "status": "ok",
     "timestamp": 1533013509373,
     "user": {
      "displayName": "Tanay Sood",
      "photoUrl": "//lh3.googleusercontent.com/-2M5-3q3S6Qk/AAAAAAAAAAI/AAAAAAAABTc/dmS5NxrNt0g/s50-c-k-no/photo.jpg",
      "userId": "113123360936150899713"
     },
     "user_tz": 420
    },
    "id": "T3g76GdOn3m-",
    "outputId": "4bc74d8a-2b43-4b39-d67e-ccdbf019c4f3"
   },
   "outputs": [
    {
     "data": {
      "image/png": "[encoded data removed]",
      "text/plain": [
       "<Figure size 432x288 with 1 Axes>"
      ]
     },
     "metadata": {},
     "output_type": "display_data"
    }
   ],
   "source": [
    "sns.set(style='darkgrid')\n",
    "_=sns.countplot(x='loan_status_bin', data=loans_df, order = loans_df['loan_status_bin'].value_counts().index)"
   ]
  },
  {
   "cell_type": "code",
   "execution_count": 30,
   "metadata": {
    "colab": {
     "autoexec": {
      "startup": false,
      "wait_interval": 0
     }
    },
    "colab_type": "code",
    "id": "wCZ71P1xn3nE"
   },
   "outputs": [],
   "source": [
    "# Fill null annual income by median annual income\n",
    "loans_df.fillna(loans_df['annual_inc'].median()\n",
    "                , inplace=True)"
   ]
  },
  {
   "cell_type": "code",
   "execution_count": 15,
   "metadata": {
    "colab": {
     "autoexec": {
      "startup": false,
      "wait_interval": 0
     },
     "base_uri": "https://localhost:8080/",
     "height": 34
    },
    "colab_type": "code",
    "executionInfo": {
     "elapsed": 295,
     "status": "ok",
     "timestamp": 1533013586795,
     "user": {
      "displayName": "Tanay Sood",
      "photoUrl": "//lh3.googleusercontent.com/-2M5-3q3S6Qk/AAAAAAAAAAI/AAAAAAAABTc/dmS5NxrNt0g/s50-c-k-no/photo.jpg",
      "userId": "113123360936150899713"
     },
     "user_tz": 420
    },
    "id": "lH_1v46sn3nK",
    "outputId": "7eee12b2-d86d-45e6-e163-332c7ed30e72"
   },
   "outputs": [
    {
     "data": {
      "text/plain": [
       "0"
      ]
     },
     "execution_count": 15,
     "metadata": {},
     "output_type": "execute_result"
    }
   ],
   "source": [
    "loans_df[loans_df['annual_inc'].isnull()==True]['annual_inc'].count()"
   ]
  },
  {
   "cell_type": "code",
   "execution_count": 16,
   "metadata": {
    "colab": {
     "autoexec": {
      "startup": false,
      "wait_interval": 0
     }
    },
    "colab_type": "code",
    "id": "A0Me7z2cn3nS"
   },
   "outputs": [],
   "source": [
    "# create a new dataframe for Fully Paid loans\n",
    "loans_df_fp=loans_df[loans_df['loan_status_bin']=='Fully Paid']"
   ]
  },
  {
   "cell_type": "code",
   "execution_count": 17,
   "metadata": {
    "colab": {
     "autoexec": {
      "startup": false,
      "wait_interval": 0
     }
    },
    "colab_type": "code",
    "id": "9o3SrxF-n3nX"
   },
   "outputs": [],
   "source": [
    "# create a new dataframe for Current loans\n",
    "loans_df_def=loans_df[loans_df['loan_status_bin']=='Default']"
   ]
  },
  {
   "cell_type": "code",
   "execution_count": 18,
   "metadata": {
    "colab": {
     "autoexec": {
      "startup": false,
      "wait_interval": 0
     },
     "base_uri": "https://localhost:8080/",
     "height": 34
    },
    "colab_type": "code",
    "executionInfo": {
     "elapsed": 317,
     "status": "ok",
     "timestamp": 1533013590796,
     "user": {
      "displayName": "Tanay Sood",
      "photoUrl": "//lh3.googleusercontent.com/-2M5-3q3S6Qk/AAAAAAAAAAI/AAAAAAAABTc/dmS5NxrNt0g/s50-c-k-no/photo.jpg",
      "userId": "113123360936150899713"
     },
     "user_tz": 420
    },
    "id": "G29qtJb4n3nb",
    "outputId": "42e11b4b-f6f7-4967-cf21-32205b1d36f3"
   },
   "outputs": [
    {
     "name": "stdout",
     "output_type": "stream",
     "text": [
      "For Default loans, mean annual income is 67324.66868350415, standard deviation is 64812.91039063109, size of dataframe is 67429\n"
     ]
    }
   ],
   "source": [
    "print('For Default loans, mean annual income is {0}, standard deviation is {1}, size of dataframe is {2}'.format(loans_df_def['annual_inc'].mean(), loans_df_def['annual_inc'].std(), len(loans_df_def['annual_inc'])))"
   ]
  },
  {
   "cell_type": "code",
   "execution_count": 19,
   "metadata": {
    "colab": {
     "autoexec": {
      "startup": false,
      "wait_interval": 0
     },
     "base_uri": "https://localhost:8080/",
     "height": 34
    },
    "colab_type": "code",
    "executionInfo": {
     "elapsed": 353,
     "status": "ok",
     "timestamp": 1533013591831,
     "user": {
      "displayName": "Tanay Sood",
      "photoUrl": "//lh3.googleusercontent.com/-2M5-3q3S6Qk/AAAAAAAAAAI/AAAAAAAABTc/dmS5NxrNt0g/s50-c-k-no/photo.jpg",
      "userId": "113123360936150899713"
     },
     "user_tz": 420
    },
    "id": "6ORl0DcUn3ni",
    "outputId": "a18548ed-11a8-4b7f-dbc5-ea9b16604980"
   },
   "outputs": [
    {
     "name": "stdout",
     "output_type": "stream",
     "text": [
      "For Fully Paid loans, mean annual income is 74142.5024192341, standard deviation is 59205.29202398379, size of dataframe is 209711\n"
     ]
    }
   ],
   "source": [
    "print('For Fully Paid loans, mean annual income is {0}, standard deviation is {1}, size of dataframe is {2}'.format(loans_df_fp['annual_inc'].mean(), loans_df_fp['annual_inc'].std(), len(loans_df_fp['annual_inc'])))"
   ]
  },
  {
   "cell_type": "code",
   "execution_count": 20,
   "metadata": {
    "colab": {
     "autoexec": {
      "startup": false,
      "wait_interval": 0
     }
    },
    "colab_type": "code",
    "id": "Ke17QoX0n3oA"
   },
   "outputs": [],
   "source": [
    "#define a function to convert grade into numerical values\n",
    "def credit_grade(grade):\n",
    "    if grade in ('A'):\n",
    "        return 1\n",
    "    elif grade in ('B'):\n",
    "        return 2\n",
    "    elif grade in ('C'):\n",
    "        return 3\n",
    "    elif grade in ('D'):\n",
    "        return 4\n",
    "    elif grade in ('E'):\n",
    "        return 5\n",
    "    elif grade in ('F'):\n",
    "        return 6\n",
    "    elif grade in ('G'):\n",
    "        return 7\n",
    "    else:\n",
    "        99"
   ]
  },
  {
   "cell_type": "code",
   "execution_count": 31,
   "metadata": {
    "colab": {
     "autoexec": {
      "startup": false,
      "wait_interval": 0
     },
     "base_uri": "https://localhost:8080/",
     "height": 34
    },
    "colab_type": "code",
    "executionInfo": {
     "elapsed": 780,
     "status": "ok",
     "timestamp": 1533013596295,
     "user": {
      "displayName": "Tanay Sood",
      "photoUrl": "//lh3.googleusercontent.com/-2M5-3q3S6Qk/AAAAAAAAAAI/AAAAAAAABTc/dmS5NxrNt0g/s50-c-k-no/photo.jpg",
      "userId": "113123360936150899713"
     },
     "user_tz": 420
    },
    "id": "x1AgfZB2n3oF",
    "outputId": "637e1e26-ff32-430e-883c-043b6cbd7ebd"
   },
   "outputs": [
    {
     "data": {
      "text/plain": [
       "array([2, 3, 1, 5, 6, 4, 7])"
      ]
     },
     "execution_count": 31,
     "metadata": {},
     "output_type": "execute_result"
    }
   ],
   "source": [
    "#create a new attribute 'credit_grade' in the dataframe\n",
    "loans_df['credit_grade']=loans_df['grade'].apply(credit_grade)\n",
    "loans_df['credit_grade'].unique()"
   ]
  },
  {
   "cell_type": "code",
   "execution_count": 22,
   "metadata": {
    "colab": {
     "autoexec": {
      "startup": false,
      "wait_interval": 0
     },
     "base_uri": "https://localhost:8080/",
     "height": 34
    },
    "colab_type": "code",
    "executionInfo": {
     "elapsed": 678,
     "status": "ok",
     "timestamp": 1533013597695,
     "user": {
      "displayName": "Tanay Sood",
      "photoUrl": "//lh3.googleusercontent.com/-2M5-3q3S6Qk/AAAAAAAAAAI/AAAAAAAABTc/dmS5NxrNt0g/s50-c-k-no/photo.jpg",
      "userId": "113123360936150899713"
     },
     "user_tz": 420
    },
    "id": "icKN86Czn3oN",
    "outputId": "a14bc347-bcdc-40b1-969d-8e80232d80f8"
   },
   "outputs": [
    {
     "data": {
      "text/plain": [
       "array(['INDIVIDUAL', 'JOINT'], dtype=object)"
      ]
     },
     "execution_count": 22,
     "metadata": {},
     "output_type": "execute_result"
    }
   ],
   "source": [
    "loans_df['application_type'].unique()"
   ]
  },
  {
   "cell_type": "code",
   "execution_count": 23,
   "metadata": {
    "colab": {
     "autoexec": {
      "startup": false,
      "wait_interval": 0
     }
    },
    "colab_type": "code",
    "id": "LnEJGqU3n3oa"
   },
   "outputs": [],
   "source": [
    "def derived_income(x, y, z):\n",
    "    if x == 'INDIVIDUAL':\n",
    "        return y\n",
    "    elif x == 'JOINT':\n",
    "        return z\n",
    "    else:\n",
    "        0"
   ]
  },
  {
   "cell_type": "code",
   "execution_count": 24,
   "metadata": {
    "colab": {
     "autoexec": {
      "startup": false,
      "wait_interval": 0
     }
    },
    "colab_type": "code",
    "id": "mFGIiHkUn3og"
   },
   "outputs": [],
   "source": [
    "#create a feature derived income, which chooses between annual income & joint annual income based on the application type\n",
    "loans_df['derived_income']=loans_df.apply(lambda x: derived_income(x['application_type'], x['annual_inc'], x['annual_inc_joint']), axis=1)"
   ]
  },
  {
   "cell_type": "code",
   "execution_count": 25,
   "metadata": {
    "colab": {
     "autoexec": {
      "startup": false,
      "wait_interval": 0
     }
    },
    "colab_type": "code",
    "id": "Qzt4Djhwn3ol"
   },
   "outputs": [],
   "source": [
    "def derived_dti(x, y, z):\n",
    "    if x == 'INDIVIDUAL':\n",
    "        return y\n",
    "    elif x == 'JOINT':\n",
    "        return z\n",
    "    else:\n",
    "        0"
   ]
  },
  {
   "cell_type": "code",
   "execution_count": 26,
   "metadata": {
    "colab": {
     "autoexec": {
      "startup": false,
      "wait_interval": 0
     }
    },
    "colab_type": "code",
    "id": "nVINOCtin3oo"
   },
   "outputs": [],
   "source": [
    "#create a feature derived DTI, which chooses between DTI & jjoint DTI based on the application type\n",
    "loans_df['derived_dti']=loans_df.apply(lambda x: derived_dti(x['application_type'], x['dti'], x['dti_joint']), axis=1)"
   ]
  },
  {
   "cell_type": "code",
   "execution_count": 27,
   "metadata": {
    "colab": {
     "autoexec": {
      "startup": false,
      "wait_interval": 0
     }
    },
    "colab_type": "code",
    "id": "uyGKBuREn3ot"
   },
   "outputs": [],
   "source": [
    "# create a feature which tracks the ratio of installment to derived income\n",
    "loans_df['inst_inc_ratio']=loans_df['installment']/ (loans_df['derived_income'] /12)"
   ]
  },
  {
   "cell_type": "markdown",
   "metadata": {
    "colab_type": "text",
    "id": "4It3Cf6Sn3ow"
   },
   "source": [
    "## Model Training"
   ]
  },
  {
   "cell_type": "markdown",
   "metadata": {
    "colab_type": "text",
    "id": "PgjG4n0Xn3ox"
   },
   "source": [
    "Features used in the current modelling: \n",
    "* loan_amount\n",
    "* credit_grade \n",
    "* interest_rate \n",
    "* derived_inc\n",
    "* derived_dti \n",
    "* inst_inc_ratio"
   ]
  },
  {
   "cell_type": "markdown",
   "metadata": {
    "colab_type": "text",
    "id": "iJVCjCfen3oy"
   },
   "source": [
    "### Training and Test Datasets\n",
    "\n",
    "When fitting models, we would like to ensure two things:\n",
    "\n",
    "* We have found the best model (in terms of model parameters).\n",
    "* The model is highly likely to generalize i.e. perform well on unseen data.\n",
    "\n",
    "<br/>\n",
    "<div class=\"span5 alert alert-success\">\n",
    "<h4>Purpose of splitting data into Training/testing sets</h4>\n",
    "<ul>\n",
    "  <li> We built our model with the requirement that the model fit the data well. </li>\n",
    "  <li> As a side-effect, the model will fit <b>THIS</b> dataset well. What about new data? </li>\n",
    "    <ul>\n",
    "      <li> We wanted the model for predictions, right?</li>\n",
    "    </ul>\n",
    "  <li> One simple solution, leave out some data (for <b>testing</b>) and <b>train</b> the model on the rest </li>\n",
    "  <li> This also leads directly to the idea of cross-validation, next section. </li>  \n",
    "</ul>\n",
    "</div>\n",
    "\n",
    "First, we try a basic Logistic Regression:\n",
    "\n",
    "* Split the data into a training and test (hold-out) set\n",
    "* Train on the training set, and test for accuracy on the testing set"
   ]
  },
  {
   "cell_type": "code",
   "execution_count": 32,
   "metadata": {
    "colab": {
     "autoexec": {
      "startup": false,
      "wait_interval": 0
     }
    },
    "colab_type": "code",
    "id": "ViE5stIqn3o0"
   },
   "outputs": [],
   "source": [
    "#create a dataframe which has Fully Paid and Default loans in it to be used for training.\n",
    "loans_df_fp_def=loans_df[loans_df['loan_status_bin'].isin(['Fully Paid', 'Default'])]"
   ]
  },
  {
   "cell_type": "code",
   "execution_count": 33,
   "metadata": {
    "colab": {
     "autoexec": {
      "startup": false,
      "wait_interval": 0
     },
     "base_uri": "https://localhost:8080/",
     "height": 395
    },
    "colab_type": "code",
    "executionInfo": {
     "elapsed": 568,
     "status": "ok",
     "timestamp": 1533013667069,
     "user": {
      "displayName": "Tanay Sood",
      "photoUrl": "//lh3.googleusercontent.com/-2M5-3q3S6Qk/AAAAAAAAAAI/AAAAAAAABTc/dmS5NxrNt0g/s50-c-k-no/photo.jpg",
      "userId": "113123360936150899713"
     },
     "user_tz": 420
    },
    "id": "fYSHzNXzn3o2",
    "outputId": "bf7b5ced-57a4-4a2e-8d6e-43b0f286ecb7"
   },
   "outputs": [
    {
     "data": {
      "image/png": "[encoded data removed]",
      "text/plain": [
       "<Figure size 432x288 with 1 Axes>"
      ]
     },
     "metadata": {},
     "output_type": "display_data"
    }
   ],
   "source": [
    "sns.set(style='darkgrid')\n",
    "_=sns.countplot(x='loan_status_bin', data=loans_df_fp_def, order = loans_df_fp_def['loan_status_bin'].value_counts().index)"
   ]
  },
  {
   "cell_type": "markdown",
   "metadata": {
    "colab_type": "text",
    "id": "_cdEURXqn3o6"
   },
   "source": [
    "### Split the data into a training and test set."
   ]
  },
  {
   "cell_type": "code",
   "execution_count": 80,
   "metadata": {
    "colab": {
     "autoexec": {
      "startup": false,
      "wait_interval": 0
     }
    },
    "colab_type": "code",
    "id": "akjf4aJun3o6"
   },
   "outputs": [],
   "source": [
    "X, y = loans_df_fp_def[['loan_amnt', 'credit_grade', 'int_rate', 'derived_income', 'derived_dti', 'inst_inc_ratio']].values, (loans_df_fp_def.loan_status_bin).values"
   ]
  },
  {
   "cell_type": "code",
   "execution_count": 81,
   "metadata": {
    "colab": {
     "autoexec": {
      "startup": false,
      "wait_interval": 0
     }
    },
    "colab_type": "code",
    "id": "b1diUs1an3o-"
   },
   "outputs": [],
   "source": [
    "Xlr, Xtestlr, ylr, ytestlr = train_test_split(X, y, random_state=5, stratify=y)"
   ]
  },
  {
   "cell_type": "code",
   "execution_count": 36,
   "metadata": {
    "colab": {
     "autoexec": {
      "startup": false,
      "wait_interval": 0
     }
    },
    "colab_type": "code",
    "id": "HXmi9f5Dn3pC"
   },
   "outputs": [],
   "source": [
    "loans_df_curr=loans_df[loans_df['loan_status_bin'].isin(['Current'])]"
   ]
  },
  {
   "cell_type": "code",
   "execution_count": 37,
   "metadata": {
    "colab": {
     "autoexec": {
      "startup": false,
      "wait_interval": 0
     },
     "base_uri": "https://localhost:8080/",
     "height": 395
    },
    "colab_type": "code",
    "executionInfo": {
     "elapsed": 729,
     "status": "ok",
     "timestamp": 1533013675214,
     "user": {
      "displayName": "Tanay Sood",
      "photoUrl": "//lh3.googleusercontent.com/-2M5-3q3S6Qk/AAAAAAAAAAI/AAAAAAAABTc/dmS5NxrNt0g/s50-c-k-no/photo.jpg",
      "userId": "113123360936150899713"
     },
     "user_tz": 420
    },
    "id": "O38A3m4hn3pF",
    "outputId": "02f374b3-d612-44ef-8720-6ca5e30f5686"
   },
   "outputs": [
    {
     "data": {
      "image/png": "[encoded data removed]",
      "text/plain": [
       "<Figure size 432x288 with 1 Axes>"
      ]
     },
     "metadata": {},
     "output_type": "display_data"
    }
   ],
   "source": [
    "sns.set(style='darkgrid')\n",
    "_=sns.countplot(x='loan_status_bin', data=loans_df_curr, order = loans_df_curr['loan_status_bin'].value_counts().index)"
   ]
  },
  {
   "cell_type": "markdown",
   "metadata": {
    "colab": {
     "autoexec": {
      "startup": false,
      "wait_interval": 0
     }
    },
    "colab_type": "code",
    "id": "o8TJYXRun3pM",
    "outputId": "cdb8030b-0095-4ae2-c709-fda8b0ea25c7"
   },
   "source": [
    "### Build a logistic regression classifier (naive)"
   ]
  },
  {
   "cell_type": "code",
   "execution_count": 38,
   "metadata": {
    "colab": {
     "autoexec": {
      "startup": false,
      "wait_interval": 0
     }
    },
    "colab_type": "code",
    "id": "o8TJYXRun3pM",
    "outputId": "cdb8030b-0095-4ae2-c709-fda8b0ea25c7"
   },
   "outputs": [
    {
     "name": "stdout",
     "output_type": "stream",
     "text": [
      "0.7567005845421086\n"
     ]
    }
   ],
   "source": [
    "clf = LogisticRegression()\n",
    "# Fit the model on the trainng data.\n",
    "clf.fit(Xlr, ylr)\n",
    "# Print the accuracy from the testing data.\n",
    "print(accuracy_score(clf.predict(Xtestlr), ytestlr))"
   ]
  },
  {
   "cell_type": "markdown",
   "metadata": {
    "colab_type": "text",
    "id": "XAdPSZYPn3pQ"
   },
   "source": [
    "### Tuning the Classifier\n",
    "\n",
    "The model has some hyperparameters we can tune for hopefully better performance. For tuning the parameters of your model, you will use a mix of *cross-validation* and *grid search*. In Logistic Regression, the most important parameter to tune is the *regularization parameter* `C`. Note that the regularization parameter is not always part of the logistic regression model. \n",
    "\n",
    "The regularization parameter is used to control for unlikely high regression coefficients, and in other cases can be used when data is sparse, as a method of feature selection.\n",
    "\n",
    "You will now implement some code to perform model tuning and selecting the regularization parameter $C$.\n",
    "\n",
    "We use the following `cv_score` function to perform K-fold cross-validation and apply a scoring function to each test fold. In this incarnation we use accuracy score as the default scoring function.\n"
   ]
  },
  {
   "cell_type": "code",
   "execution_count": 42,
   "metadata": {
    "colab": {
     "autoexec": {
      "startup": false,
      "wait_interval": 0
     }
    },
    "colab_type": "code",
    "id": "XzIr0wApn3pR"
   },
   "outputs": [],
   "source": [
    "def cv_score(clf, x, y, score_func=accuracy_score):\n",
    "    result = 0\n",
    "    nfold = 5\n",
    "    for train, test in KFold(nfold).split(x): # split data into train/test groups, 5 times\n",
    "        clf.fit(x[train], y[train]) # fit\n",
    "        result += score_func(clf.predict(x[test]), y[test]) # evaluate score function on held-out data\n",
    "    return result / nfold # average"
   ]
  },
  {
   "cell_type": "markdown",
   "metadata": {
    "colab_type": "text",
    "id": "kotZkXaBn3pW"
   },
   "source": [
    "Below is an example of using the `cv_score` function for a basic logistic regression model without regularization."
   ]
  },
  {
   "cell_type": "code",
   "execution_count": 43,
   "metadata": {
    "colab": {
     "autoexec": {
      "startup": false,
      "wait_interval": 0
     }
    },
    "colab_type": "code",
    "id": "hKygXa8Jn3pX",
    "outputId": "9f9f8906-94e6-4bab-e976-11b014490234"
   },
   "outputs": [
    {
     "name": "stdout",
     "output_type": "stream",
     "text": [
      "0.7566957734959467\n"
     ]
    }
   ],
   "source": [
    "clf1 = LogisticRegression()\n",
    "score = cv_score(clf1, Xlr, ylr)\n",
    "print(score)"
   ]
  },
  {
   "cell_type": "markdown",
   "metadata": {
    "colab_type": "text",
    "id": "wEsSY2BVn3pl"
   },
   "source": [
    "<div class=\"span5 alert alert-info\">\n",
    "\n",
    "<b>Exercise:</b> Implement the following search procedure to find a good model\n",
    "<ul>\n",
    "<li> For a given a list of possible values of `C` below\n",
    "<li> For each C:\n",
    "  <ol>\n",
    "  <li> Create a logistic regression model with that value of C\n",
    "  <li> Find the average score for this model using the `cv_score` function **only on the training set** `(Xlr, ylr)`\n",
    "  </ol>\n",
    "<li> Pick the C with the highest average score\n",
    "</ul>\n",
    "Your goal is to find the best model parameters based *only* on the training set, without showing the model test set at all (which is why the test set is also called a *hold-out* set).\n",
    "</div>"
   ]
  },
  {
   "cell_type": "code",
   "execution_count": 47,
   "metadata": {
    "colab": {
     "autoexec": {
      "startup": false,
      "wait_interval": 0
     }
    },
    "colab_type": "code",
    "id": "GJANggYCn3pn",
    "outputId": "ea33d684-6e93-4bfb-8343-6e53852a462e"
   },
   "outputs": [
    {
     "name": "stdout",
     "output_type": "stream",
     "text": [
      "max_score: 0.7566957734959467, best_C: 0.001\n"
     ]
    }
   ],
   "source": [
    "#the grid of parameters to search over\n",
    "Cs = [0.001, 0.1, 1, 10, 100]\n",
    "max_score=0\n",
    "\n",
    "for C in Cs:\n",
    "    clf2 = LogisticRegression(C=C)\n",
    "    score = cv_score(clf2, Xlr, ylr)\n",
    "    if score > max_score:\n",
    "        max_score = score\n",
    "        best_C =C\n",
    "print ('max_score: {0}, best_C: {1}'.format(max_score, best_C))"
   ]
  },
  {
   "cell_type": "markdown",
   "metadata": {
    "colab_type": "text",
    "id": "2CDGmF9Wn3pu"
   },
   "source": [
    "<ol>\n",
    "<li> Use the C you obtained from the procedure earlier and train a Logistic Regression on the training data\n",
    "<li> Calculate the accuracy on the test data\n",
    "</ol>"
   ]
  },
  {
   "cell_type": "code",
   "execution_count": 46,
   "metadata": {
    "colab": {
     "autoexec": {
      "startup": false,
      "wait_interval": 0
     }
    },
    "colab_type": "code",
    "id": "okKF0kOFn3pu",
    "outputId": "0a95dbf2-8b90-4670-fcaa-cd0471b25486"
   },
   "outputs": [
    {
     "name": "stdout",
     "output_type": "stream",
     "text": [
      "accuracy score:  0.7567005845421086 \n",
      "\n"
     ]
    }
   ],
   "source": [
    "clf3=LogisticRegression(C=best_C)\n",
    "clf3.fit(Xlr, ylr)\n",
    "ypred=clf3.predict(Xtestlr)\n",
    "print('accuracy score: ', accuracy_score(ypred, ytestlr), '\\n')"
   ]
  },
  {
   "cell_type": "markdown",
   "metadata": {
    "colab_type": "text",
    "id": "KUYOXSpcn3p3"
   },
   "source": [
    "### Black Box Grid Search in `sklearn` on Logistic Regression\n",
    "Use scikit-learn's [GridSearchCV](http://scikit-learn.org/stable/modules/generated/sklearn.grid_search.GridSearchCV.html) tool to perform cross validation and grid search. \n",
    "\n",
    "* Instead of writing your own loops above to iterate over the model parameters, use GridSearchCV to find the best model over the training set? \n",
    "* Does it give you the same best value of `C`?\n",
    "* How does this model you've obtained perform on the test set?"
   ]
  },
  {
   "cell_type": "code",
   "execution_count": 51,
   "metadata": {
    "colab": {
     "autoexec": {
      "startup": false,
      "wait_interval": 0
     }
    },
    "colab_type": "code",
    "id": "Stqu-xvnn3p3",
    "outputId": "8fd0c036-19e2-4d83-825c-5ecdb9541ea2"
   },
   "outputs": [
    {
     "name": "stdout",
     "output_type": "stream",
     "text": [
      "accuracy score:  0.7567005845421086\n",
      "The new value of the C is:  0.0001\n"
     ]
    }
   ],
   "source": [
    "clf4=LogisticRegression()\n",
    "parameters = {\"C\": [0.0001, 0.001, 0.01, 0.1, 1, 10, 100]}\n",
    "fitmodel = GridSearchCV(clf4, param_grid=parameters, cv=5, scoring=\"accuracy\", return_train_score=True)\n",
    "fitmodel.fit(Xlr, ylr)\n",
    "fitmodel.best_estimator_, fitmodel.best_params_, fitmodel.best_score_, fitmodel.cv_results_\n",
    "\n",
    "clf5=LogisticRegression(C=fitmodel.best_params_['C'])\n",
    "clf5.fit(Xlr, ylr)\n",
    "ypred=clf5.predict(Xtestlr)\n",
    "\n",
    "print('accuracy score: ', accuracy_score(ypred, ytestlr))\n",
    "print('The new value of the C is: ', fitmodel.best_params_['C'])"
   ]
  },
  {
   "cell_type": "markdown",
   "metadata": {},
   "source": [
    "#### Decision Tree Classifier (naive)"
   ]
  },
  {
   "cell_type": "code",
   "execution_count": 54,
   "metadata": {
    "colab": {
     "autoexec": {
      "startup": false,
      "wait_interval": 0
     }
    },
    "colab_type": "code",
    "id": "81bRzV3en3p9",
    "outputId": "21504081-e485-4eb6-dbf7-f5511a9e15ce"
   },
   "outputs": [
    {
     "name": "stdout",
     "output_type": "stream",
     "text": [
      "DecisionTreeClassifier(class_weight=None, criterion='gini', max_depth=None,\n",
      "            max_features=None, max_leaf_nodes=None,\n",
      "            min_impurity_decrease=0.0, min_impurity_split=None,\n",
      "            min_samples_leaf=1, min_samples_split=2,\n",
      "            min_weight_fraction_leaf=0.0, presort=False, random_state=None,\n",
      "            splitter='best')\n",
      "             precision    recall  f1-score   support\n",
      "\n",
      "    Default       0.31      0.33      0.32     16857\n",
      " Fully Paid       0.78      0.77      0.77     52428\n",
      "\n",
      "avg / total       0.67      0.66      0.66     69285\n",
      "\n",
      "[[ 5532 11325]\n",
      " [12153 40275]]\n"
     ]
    }
   ],
   "source": [
    "# fit a CART model to the data\n",
    "clf_dt = DecisionTreeClassifier()\n",
    "clf_dt.fit(Xlr, ylr)\n",
    "print(clf_dt)\n",
    "# make predictions\n",
    "ypred = clf_dt.predict(Xtestlr)\n",
    "# summarize the fit of the model\n",
    "print(metrics.classification_report(ytestlr, ypred))\n",
    "print(metrics.confusion_matrix(ytestlr, ypred))"
   ]
  },
  {
   "cell_type": "markdown",
   "metadata": {
    "colab_type": "text",
    "id": "qNrVcxG6n3qB"
   },
   "source": [
    "## Resampling of Data\n",
    "\n",
    "Since we already know that number of observations for **Default** is less than half of **Fully Paid**, we can see the impact of this uneven distribution in the precision and other metrics from classification report, and thus it becomes imperative to balance the classes by employing a resamping technique."
   ]
  },
  {
   "cell_type": "markdown",
   "metadata": {
    "colab_type": "text",
    "id": "hTWX_H9_n3qC"
   },
   "source": [
    "### Resampling using SMOTE"
   ]
  },
  {
   "cell_type": "code",
   "execution_count": 82,
   "metadata": {
    "colab": {
     "autoexec": {
      "startup": false,
      "wait_interval": 0
     },
     "base_uri": "https://localhost:8080/",
     "height": 34
    },
    "colab_type": "code",
    "executionInfo": {
     "elapsed": 1628,
     "status": "ok",
     "timestamp": 1533013774995,
     "user": {
      "displayName": "Tanay Sood",
      "photoUrl": "//lh3.googleusercontent.com/-2M5-3q3S6Qk/AAAAAAAAAAI/AAAAAAAABTc/dmS5NxrNt0g/s50-c-k-no/photo.jpg",
      "userId": "113123360936150899713"
     },
     "user_tz": 420
    },
    "id": "JdtdHcgvn3qL",
    "outputId": "a3777e61-0dc3-419a-a7bb-65492e47e3b9"
   },
   "outputs": [
    {
     "name": "stdout",
     "output_type": "stream",
     "text": [
      "[('Default', 157283), ('Fully Paid', 157283)]\n"
     ]
    }
   ],
   "source": [
    "X_resampled, y_resampled = SMOTE().fit_sample(Xlr, ylr)\n",
    "print(sorted(Counter(y_resampled).items()))"
   ]
  },
  {
   "cell_type": "code",
   "execution_count": 83,
   "metadata": {
    "colab": {
     "autoexec": {
      "startup": false,
      "wait_interval": 0
     },
     "base_uri": "https://localhost:8080/",
     "height": 34
    },
    "colab_type": "code",
    "executionInfo": {
     "elapsed": 1070,
     "status": "ok",
     "timestamp": 1533013776205,
     "user": {
      "displayName": "Tanay Sood",
      "photoUrl": "//lh3.googleusercontent.com/-2M5-3q3S6Qk/AAAAAAAAAAI/AAAAAAAABTc/dmS5NxrNt0g/s50-c-k-no/photo.jpg",
      "userId": "113123360936150899713"
     },
     "user_tz": 420
    },
    "id": "YmmhClQCn3qP",
    "outputId": "2523037d-41e7-409f-cbec-ab178e3d09b4"
   },
   "outputs": [
    {
     "name": "stdout",
     "output_type": "stream",
     "text": [
      "[('Default', 52428), ('Fully Paid', 52428)]\n"
     ]
    }
   ],
   "source": [
    "X_test_resampled, y_test_resampled = SMOTE().fit_sample(Xtestlr, ytestlr)\n",
    "print(sorted(Counter(y_test_resampled).items()))"
   ]
  },
  {
   "cell_type": "markdown",
   "metadata": {
    "colab_type": "text",
    "id": "Vl5dxaUEn3qV"
   },
   "source": [
    "### Training a classifier (logistic regression) using SMOTE resampled data"
   ]
  },
  {
   "cell_type": "code",
   "execution_count": 59,
   "metadata": {
    "colab": {
     "autoexec": {
      "startup": false,
      "wait_interval": 0
     }
    },
    "colab_type": "code",
    "id": "8p7XTp2Un3qV",
    "outputId": "5be4fe96-2510-4fa3-91ce-98c11ff0de10"
   },
   "outputs": [
    {
     "name": "stdout",
     "output_type": "stream",
     "text": [
      "LogisticRegression(C=1.0, class_weight=None, dual=False, fit_intercept=True,\n",
      "          intercept_scaling=1, max_iter=100, multi_class='ovr', n_jobs=1,\n",
      "          penalty='l2', random_state=None, solver='liblinear', tol=0.0001,\n",
      "          verbose=0, warm_start=False)\n"
     ]
    }
   ],
   "source": [
    "clf_smote = LogisticRegression().fit(X_resampled, y_resampled)\n",
    "print(clf_smote)"
   ]
  },
  {
   "cell_type": "code",
   "execution_count": 60,
   "metadata": {
    "colab": {
     "autoexec": {
      "startup": false,
      "wait_interval": 0
     }
    },
    "colab_type": "code",
    "id": "MNnel1Avn3qa",
    "outputId": "79664cf9-8669-42da-cb72-357471d1468f"
   },
   "outputs": [
    {
     "name": "stdout",
     "output_type": "stream",
     "text": [
      "             precision    recall  f1-score   support\n",
      "\n",
      "    Default       0.30      0.76      0.44     16857\n",
      " Fully Paid       0.85      0.44      0.58     52428\n",
      "\n",
      "avg / total       0.72      0.52      0.55     69285\n",
      "\n",
      "[[12872  3985]\n",
      " [29359 23069]]\n"
     ]
    }
   ],
   "source": [
    "# make predictions\n",
    "ypred = clf_smote.predict(Xtestlr)\n",
    "# summarize the fit of the model\n",
    "print(metrics.classification_report(ytestlr, ypred))\n",
    "print(metrics.confusion_matrix(ytestlr, ypred))"
   ]
  },
  {
   "cell_type": "code",
   "execution_count": 61,
   "metadata": {
    "colab": {
     "autoexec": {
      "startup": false,
      "wait_interval": 0
     }
    },
    "colab_type": "code",
    "id": "GYm5mUffn3qe",
    "outputId": "fb115343-26fd-4557-aa1c-7deaf6d9149b"
   },
   "outputs": [
    {
     "name": "stdout",
     "output_type": "stream",
     "text": [
      "accuracy score:  0.518741430324024 \n",
      "\n"
     ]
    }
   ],
   "source": [
    "print('accuracy score: ', accuracy_score(ypred, ytestlr), '\\n')"
   ]
  },
  {
   "cell_type": "markdown",
   "metadata": {
    "colab_type": "text",
    "id": "Ogc8KKG7n3ql"
   },
   "source": [
    "### Training Decision tree (CART) using SMOTE sampled data"
   ]
  },
  {
   "cell_type": "code",
   "execution_count": 63,
   "metadata": {
    "colab": {
     "autoexec": {
      "startup": false,
      "wait_interval": 0
     }
    },
    "colab_type": "code",
    "id": "MRDl8mEQn3qm",
    "outputId": "75c7b120-e51c-4d39-ecee-ff90a9df05a9"
   },
   "outputs": [
    {
     "name": "stdout",
     "output_type": "stream",
     "text": [
      "DecisionTreeClassifier(class_weight=None, criterion='gini', max_depth=None,\n",
      "            max_features=None, max_leaf_nodes=None,\n",
      "            min_impurity_decrease=0.0, min_impurity_split=None,\n",
      "            min_samples_leaf=1, min_samples_split=2,\n",
      "            min_weight_fraction_leaf=0.0, presort=False, random_state=None,\n",
      "            splitter='best')\n",
      "             precision    recall  f1-score   support\n",
      "\n",
      "    Default       0.31      0.34      0.32     16857\n",
      " Fully Paid       0.78      0.75      0.76     52428\n",
      "\n",
      "avg / total       0.66      0.65      0.66     69285\n",
      "\n",
      "[[ 5774 11083]\n",
      " [13089 39339]]\n"
     ]
    }
   ],
   "source": [
    "# fit a CART model to the data\n",
    "clf_dt_smote = DecisionTreeClassifier()\n",
    "clf_dt_smote.fit(X_resampled, y_resampled)\n",
    "print(clf_dt_smote)\n",
    "# make predictions\n",
    "ypred = clf_dt_smote.predict(Xtestlr)\n",
    "# summarize the fit of the model\n",
    "print(metrics.classification_report(ytestlr, ypred))\n",
    "print(metrics.confusion_matrix(ytestlr, ypred))"
   ]
  },
  {
   "cell_type": "markdown",
   "metadata": {
    "colab_type": "text",
    "id": "F3_5bK5An3rJ"
   },
   "source": [
    "## Training Random forest using SMOTE sampled data"
   ]
  },
  {
   "cell_type": "code",
   "execution_count": 68,
   "metadata": {
    "colab": {
     "autoexec": {
      "startup": false,
      "wait_interval": 0
     }
    },
    "colab_type": "code",
    "id": "tP5ukf3Jn3rK"
   },
   "outputs": [],
   "source": [
    "clf_rf_1 = RandomForestClassifier(max_depth=5, random_state=0)"
   ]
  },
  {
   "cell_type": "code",
   "execution_count": 69,
   "metadata": {
    "colab": {
     "autoexec": {
      "startup": false,
      "wait_interval": 0
     }
    },
    "colab_type": "code",
    "id": "8ZtXjHhFn3rM",
    "outputId": "3abe407f-f0eb-45b7-d6d5-d1d24dfc2eac"
   },
   "outputs": [
    {
     "name": "stdout",
     "output_type": "stream",
     "text": [
      "[0.00788212 0.65707935 0.240958   0.00816264 0.04317551 0.04274238]\n"
     ]
    }
   ],
   "source": [
    "clf_rf_1.fit(X_resampled, y_resampled)\n",
    "print(clf_rf_1.feature_importances_)"
   ]
  },
  {
   "cell_type": "code",
   "execution_count": 70,
   "metadata": {
    "colab": {
     "autoexec": {
      "startup": false,
      "wait_interval": 0
     }
    },
    "colab_type": "code",
    "id": "uSxssndun3rQ",
    "outputId": "852766d6-a1a7-4c78-92c9-2da7e11b9b16"
   },
   "outputs": [
    {
     "name": "stdout",
     "output_type": "stream",
     "text": [
      "RandomForestClassifier(bootstrap=True, class_weight=None, criterion='gini',\n",
      "            max_depth=5, max_features='auto', max_leaf_nodes=None,\n",
      "            min_impurity_decrease=0.0, min_impurity_split=None,\n",
      "            min_samples_leaf=1, min_samples_split=2,\n",
      "            min_weight_fraction_leaf=0.0, n_estimators=10, n_jobs=1,\n",
      "            oob_score=False, random_state=0, verbose=0, warm_start=False)\n"
     ]
    }
   ],
   "source": [
    "print(clf_rf_1)"
   ]
  },
  {
   "cell_type": "code",
   "execution_count": 71,
   "metadata": {
    "colab": {
     "autoexec": {
      "startup": false,
      "wait_interval": 0
     }
    },
    "colab_type": "code",
    "id": "J2t6qpj9n3rT"
   },
   "outputs": [
    {
     "name": "stdout",
     "output_type": "stream",
     "text": [
      "             precision    recall  f1-score   support\n",
      "\n",
      "    Default       0.38      0.54      0.45     16857\n",
      " Fully Paid       0.83      0.71      0.77     52428\n",
      "\n",
      "avg / total       0.72      0.67      0.69     69285\n",
      "\n",
      "[[ 9143  7714]\n",
      " [14987 37441]]\n"
     ]
    }
   ],
   "source": [
    "# make predictions\n",
    "ypred = clf_rf_1.predict(Xtestlr)\n",
    "# summarize the fit of the model\n",
    "print(metrics.classification_report(ytestlr, ypred))\n",
    "print(metrics.confusion_matrix(ytestlr, ypred))"
   ]
  },
  {
   "cell_type": "markdown",
   "metadata": {
    "colab_type": "text",
    "id": "G_QwcFHqn3rT"
   },
   "source": [
    "### Hyperparameter tuning"
   ]
  },
  {
   "cell_type": "markdown",
   "metadata": {
    "colab_type": "text",
    "id": "zW3Qx1Frn3rV"
   },
   "source": [
    "#### Hyper parameter tuning of Random Forest using Randomized Search CV"
   ]
  },
  {
   "cell_type": "code",
   "execution_count": null,
   "metadata": {
    "colab": {
     "autoexec": {
      "startup": false,
      "wait_interval": 0
     }
    },
    "colab_type": "code",
    "id": "Th3VsuRMn3rV"
   },
   "outputs": [],
   "source": [
    "# Number of trees in random forest\n",
    "n_estimators = [int(x) for x in np.linspace(start = 200, stop = 2000, num = 5)]\n",
    "# Number of features to consider at every split\n",
    "max_features = ['auto', 'sqrt']\n",
    "# Maximum number of levels in tree\n",
    "max_depth = [int(x) for x in np.linspace(10, 100, num = 5)]\n",
    "max_depth.append(None)\n",
    "# Minimum number of samples required to split a node\n",
    "min_samples_split = [2, 5, 10]\n",
    "# Minimum number of samples required at each leaf node\n",
    "min_samples_leaf = [1, 2, 4]\n",
    "# Method of selecting samples for training each tree\n",
    "bootstrap = [True, False]\n",
    "# Create the random grid\n",
    "random_grid = {'n_estimators': n_estimators,\n",
    "               'max_features': max_features,\n",
    "               'max_depth': max_depth,\n",
    "               'min_samples_split': min_samples_split,\n",
    "               'min_samples_leaf': min_samples_leaf,\n",
    "               'bootstrap': bootstrap}"
   ]
  },
  {
   "cell_type": "code",
   "execution_count": null,
   "metadata": {
    "colab": {
     "autoexec": {
      "startup": false,
      "wait_interval": 0
     }
    },
    "colab_type": "code",
    "id": "Y5uEj2lfn3rX",
    "outputId": "6eacc246-30d0-4970-8eb6-698deab160a5"
   },
   "outputs": [
    {
     "name": "stdout",
     "output_type": "stream",
     "text": [
      "{'n_estimators': [200, 650, 1100, 1550, 2000], 'max_features': ['auto', 'sqrt'], 'max_depth': [10, 32, 55, 77, 100, None], 'min_samples_split': [2, 5, 10], 'min_samples_leaf': [1, 2, 4], 'bootstrap': [True, False]}\n"
     ]
    }
   ],
   "source": [
    "print(random_grid)"
   ]
  },
  {
   "cell_type": "code",
   "execution_count": null,
   "metadata": {
    "colab": {
     "autoexec": {
      "startup": false,
      "wait_interval": 0
     }
    },
    "colab_type": "code",
    "id": "YQ-TXms7n3ra",
    "outputId": "acee598e-f9ea-4348-d8cc-f5b981ccac07"
   },
   "outputs": [
    {
     "name": "stdout",
     "output_type": "stream",
     "text": [
      "Fitting 3 folds for each of 10 candidates, totalling 30 fits\n",
      "[CV] n_estimators=200, min_samples_split=5, min_samples_leaf=1, max_features=sqrt, max_depth=77, bootstrap=False \n",
      "[CV] n_estimators=200, min_samples_split=5, min_samples_leaf=1, max_features=sqrt, max_depth=77, bootstrap=False \n",
      "[CV] n_estimators=200, min_samples_split=5, min_samples_leaf=1, max_features=sqrt, max_depth=77, bootstrap=False \n",
      "[CV] n_estimators=2000, min_samples_split=5, min_samples_leaf=1, max_features=sqrt, max_depth=None, bootstrap=False \n",
      "[CV]  n_estimators=200, min_samples_split=5, min_samples_leaf=1, max_features=sqrt, max_depth=77, bootstrap=False, total= 6.5min\n",
      "[CV] n_estimators=2000, min_samples_split=5, min_samples_leaf=1, max_features=sqrt, max_depth=None, bootstrap=False \n",
      "[CV]  n_estimators=200, min_samples_split=5, min_samples_leaf=1, max_features=sqrt, max_depth=77, bootstrap=False, total= 7.1min\n",
      "[CV] n_estimators=2000, min_samples_split=5, min_samples_leaf=1, max_features=sqrt, max_depth=None, bootstrap=False \n",
      "[CV]  n_estimators=200, min_samples_split=5, min_samples_leaf=1, max_features=sqrt, max_depth=77, bootstrap=False, total= 7.1min\n",
      "[CV] n_estimators=650, min_samples_split=2, min_samples_leaf=4, max_features=auto, max_depth=32, bootstrap=True \n",
      "[CV]  n_estimators=650, min_samples_split=2, min_samples_leaf=4, max_features=auto, max_depth=32, bootstrap=True, total=20.3min\n",
      "[CV] n_estimators=650, min_samples_split=2, min_samples_leaf=4, max_features=auto, max_depth=32, bootstrap=True \n",
      "[CV]  n_estimators=650, min_samples_split=2, min_samples_leaf=4, max_features=auto, max_depth=32, bootstrap=True, total=20.2min\n",
      "[CV] n_estimators=650, min_samples_split=2, min_samples_leaf=4, max_features=auto, max_depth=32, bootstrap=True \n",
      "[CV]  n_estimators=650, min_samples_split=2, min_samples_leaf=4, max_features=auto, max_depth=32, bootstrap=True, total=23.0min\n",
      "[CV] n_estimators=650, min_samples_split=2, min_samples_leaf=2, max_features=auto, max_depth=None, bootstrap=True \n",
      "[CV]  n_estimators=650, min_samples_split=2, min_samples_leaf=2, max_features=auto, max_depth=None, bootstrap=True, total=23.2min\n",
      "[CV] n_estimators=650, min_samples_split=2, min_samples_leaf=2, max_features=auto, max_depth=None, bootstrap=True \n",
      "[CV]  n_estimators=2000, min_samples_split=5, min_samples_leaf=1, max_features=sqrt, max_depth=None, bootstrap=False, total=94.6min\n",
      "[CV] n_estimators=650, min_samples_split=2, min_samples_leaf=2, max_features=auto, max_depth=None, bootstrap=True \n",
      "[CV]  n_estimators=2000, min_samples_split=5, min_samples_leaf=1, max_features=sqrt, max_depth=None, bootstrap=False, total=108.9min\n",
      "[CV]  n_estimators=2000, min_samples_split=5, min_samples_leaf=1, max_features=sqrt, max_depth=None, bootstrap=False, total=108.3min\n",
      "[CV] n_estimators=200, min_samples_split=2, min_samples_leaf=2, max_features=sqrt, max_depth=77, bootstrap=True \n",
      "[CV] n_estimators=200, min_samples_split=2, min_samples_leaf=2, max_features=sqrt, max_depth=77, bootstrap=True \n",
      "[CV]  n_estimators=650, min_samples_split=2, min_samples_leaf=2, max_features=auto, max_depth=None, bootstrap=True, total=42.4min\n",
      "[CV] n_estimators=200, min_samples_split=2, min_samples_leaf=2, max_features=sqrt, max_depth=77, bootstrap=True \n",
      "[CV]  n_estimators=650, min_samples_split=2, min_samples_leaf=2, max_features=auto, max_depth=None, bootstrap=True, total=42.0min\n",
      "[CV] n_estimators=1100, min_samples_split=10, min_samples_leaf=4, max_features=sqrt, max_depth=10, bootstrap=True \n",
      "[CV]  n_estimators=200, min_samples_split=2, min_samples_leaf=2, max_features=sqrt, max_depth=77, bootstrap=True, total=10.3min\n",
      "[CV] n_estimators=1100, min_samples_split=10, min_samples_leaf=4, max_features=sqrt, max_depth=10, bootstrap=True \n",
      "[CV]  n_estimators=200, min_samples_split=2, min_samples_leaf=2, max_features=sqrt, max_depth=77, bootstrap=True, total=10.3min\n",
      "[CV] n_estimators=1100, min_samples_split=10, min_samples_leaf=4, max_features=sqrt, max_depth=10, bootstrap=True \n",
      "[CV]  n_estimators=200, min_samples_split=2, min_samples_leaf=2, max_features=sqrt, max_depth=77, bootstrap=True, total= 6.6min\n",
      "[CV] n_estimators=650, min_samples_split=2, min_samples_leaf=2, max_features=sqrt, max_depth=77, bootstrap=False \n",
      "[CV]  n_estimators=1100, min_samples_split=10, min_samples_leaf=4, max_features=sqrt, max_depth=10, bootstrap=True, total=16.8min\n",
      "[CV] n_estimators=650, min_samples_split=2, min_samples_leaf=2, max_features=sqrt, max_depth=77, bootstrap=False \n",
      "[CV]  n_estimators=1100, min_samples_split=10, min_samples_leaf=4, max_features=sqrt, max_depth=10, bootstrap=True, total=15.3min\n",
      "[CV] n_estimators=650, min_samples_split=2, min_samples_leaf=2, max_features=sqrt, max_depth=77, bootstrap=False \n",
      "[CV]  n_estimators=1100, min_samples_split=10, min_samples_leaf=4, max_features=sqrt, max_depth=10, bootstrap=True, total=15.2min\n",
      "[CV] n_estimators=200, min_samples_split=10, min_samples_leaf=4, max_features=auto, max_depth=32, bootstrap=True \n",
      "[CV]  n_estimators=200, min_samples_split=10, min_samples_leaf=4, max_features=auto, max_depth=32, bootstrap=True, total= 4.2min\n",
      "[CV] n_estimators=200, min_samples_split=10, min_samples_leaf=4, max_features=auto, max_depth=32, bootstrap=True \n",
      "[CV]  n_estimators=650, min_samples_split=2, min_samples_leaf=2, max_features=sqrt, max_depth=77, bootstrap=False, total=19.1min\n",
      "[CV] n_estimators=200, min_samples_split=10, min_samples_leaf=4, max_features=auto, max_depth=32, bootstrap=True \n",
      "[CV]  n_estimators=200, min_samples_split=10, min_samples_leaf=4, max_features=auto, max_depth=32, bootstrap=True, total= 4.9min\n",
      "[CV] n_estimators=2000, min_samples_split=2, min_samples_leaf=1, max_features=sqrt, max_depth=55, bootstrap=False \n",
      "[CV]  n_estimators=200, min_samples_split=10, min_samples_leaf=4, max_features=auto, max_depth=32, bootstrap=True, total= 5.6min\n",
      "[CV] n_estimators=2000, min_samples_split=2, min_samples_leaf=1, max_features=sqrt, max_depth=55, bootstrap=False \n",
      "[CV]  n_estimators=650, min_samples_split=2, min_samples_leaf=2, max_features=sqrt, max_depth=77, bootstrap=False, total=25.8min\n",
      "[CV] n_estimators=2000, min_samples_split=2, min_samples_leaf=1, max_features=sqrt, max_depth=55, bootstrap=False \n",
      "[CV]  n_estimators=650, min_samples_split=2, min_samples_leaf=2, max_features=sqrt, max_depth=77, bootstrap=False, total=26.3min\n",
      "[CV] n_estimators=1550, min_samples_split=10, min_samples_leaf=2, max_features=sqrt, max_depth=77, bootstrap=True \n",
      "[CV]  n_estimators=1550, min_samples_split=10, min_samples_leaf=2, max_features=sqrt, max_depth=77, bootstrap=True, total=60.0min\n",
      "[CV] n_estimators=1550, min_samples_split=10, min_samples_leaf=2, max_features=sqrt, max_depth=77, bootstrap=True \n",
      "[CV]  n_estimators=2000, min_samples_split=2, min_samples_leaf=1, max_features=sqrt, max_depth=55, bootstrap=False, total=104.0min\n",
      "[CV] n_estimators=1550, min_samples_split=10, min_samples_leaf=2, max_features=sqrt, max_depth=77, bootstrap=True \n",
      "[CV]  n_estimators=1550, min_samples_split=10, min_samples_leaf=2, max_features=sqrt, max_depth=77, bootstrap=True, total=59.2min\n",
      "[CV]  n_estimators=2000, min_samples_split=2, min_samples_leaf=1, max_features=sqrt, max_depth=55, bootstrap=False, total=122.0min\n",
      "[CV]  n_estimators=2000, min_samples_split=2, min_samples_leaf=1, max_features=sqrt, max_depth=55, bootstrap=False, total=124.6min\n",
      "[CV]  n_estimators=1550, min_samples_split=10, min_samples_leaf=2, max_features=sqrt, max_depth=77, bootstrap=True, total=42.0min\n"
     ]
    },
    {
     "name": "stderr",
     "output_type": "stream",
     "text": [
      "[Parallel(n_jobs=-1)]: Done  30 out of  30 | elapsed: 360.4min finished\n"
     ]
    },
    {
     "data": {
      "text/plain": [
       "RandomizedSearchCV(cv=3, error_score='raise',\n",
       "          estimator=RandomForestClassifier(bootstrap=True, class_weight=None, criterion='gini',\n",
       "            max_depth=None, max_features='auto', max_leaf_nodes=None,\n",
       "            min_impurity_decrease=0.0, min_impurity_split=None,\n",
       "            min_samples_leaf=1, min_samples_split=2,\n",
       "            min_weight_fraction_leaf=0.0, n_estimators=10, n_jobs=1,\n",
       "            oob_score=False, random_state=None, verbose=0,\n",
       "            warm_start=False),\n",
       "          fit_params=None, iid=True, n_iter=10, n_jobs=-1,\n",
       "          param_distributions={'n_estimators': [200, 650, 1100, 1550, 2000], 'max_features': ['auto', 'sqrt'], 'max_depth': [10, 32, 55, 77, 100, None], 'min_samples_split': [2, 5, 10], 'min_samples_leaf': [1, 2, 4], 'bootstrap': [True, False]},\n",
       "          pre_dispatch='2*n_jobs', random_state=42, refit=True,\n",
       "          return_train_score=True, scoring=None, verbose=2)"
      ]
     },
     "execution_count": 209,
     "metadata": {
      "tags": []
     },
     "output_type": "execute_result"
    }
   ],
   "source": [
    "# Use the random grid to search for best hyperparameters\n",
    "# First create the base model to tune\n",
    "clf_rf_2 = RandomForestClassifier()\n",
    "# Random search of parameters, using 3 fold cross validation, \n",
    "# search across 100 different combinations, and use all available cores\n",
    "rf_random = RandomizedSearchCV(estimator = clf_rf_2, param_distributions = random_grid, n_iter = 10, cv = 3, verbose=2, random_state=42, n_jobs = -1)\n",
    "# Fit the random search model\n",
    "rf_random.fit(X_resampled, y_resampled)"
   ]
  },
  {
   "cell_type": "code",
   "execution_count": null,
   "metadata": {
    "colab": {
     "autoexec": {
      "startup": false,
      "wait_interval": 0
     }
    },
    "colab_type": "code",
    "id": "6PcMBc1nn3rd",
    "outputId": "8e97a72c-7cb1-4745-c584-9f34d73cc572"
   },
   "outputs": [
    {
     "data": {
      "text/plain": [
       "RandomForestClassifier(bootstrap=False, class_weight=None, criterion='gini',\n",
       "            max_depth=55, max_features='sqrt', max_leaf_nodes=None,\n",
       "            min_impurity_decrease=0.0, min_impurity_split=None,\n",
       "            min_samples_leaf=1, min_samples_split=2,\n",
       "            min_weight_fraction_leaf=0.0, n_estimators=2000, n_jobs=1,\n",
       "            oob_score=False, random_state=None, verbose=0,\n",
       "            warm_start=False)"
      ]
     },
     "execution_count": 210,
     "metadata": {
      "tags": []
     },
     "output_type": "execute_result"
    }
   ],
   "source": [
    "rf_random.best_estimator_"
   ]
  },
  {
   "cell_type": "code",
   "execution_count": null,
   "metadata": {
    "colab": {
     "autoexec": {
      "startup": false,
      "wait_interval": 0
     }
    },
    "colab_type": "code",
    "id": "kWp-HjW1n3rg",
    "outputId": "9ea20a0d-5b3c-4608-b6cf-f600aabc5068"
   },
   "outputs": [
    {
     "data": {
      "text/plain": [
       "{'mean_fit_time': array([  383.12628023,  5140.30518508,  1132.78761164,  1436.26093531,\n",
       "          528.25576274,   914.40572794,  1276.98479168,   279.51547917,\n",
       "         5309.87085724,  2701.06569139]),\n",
       " 'mean_score_time': array([   30.56938227,  1093.70888766,   138.91831342,   716.05484041,\n",
       "           15.2453169 ,    30.58743819,   146.24274071,    15.88703672,\n",
       "         1700.91918516,   522.30573805]),\n",
       " 'mean_test_score': array([ 0.77174196,  0.77273276,  0.76145609,  0.76807411,  0.76715952,\n",
       "         0.73779764,  0.7719325 ,  0.76102103,  0.77295505,  0.76394261]),\n",
       " 'mean_train_score': array([ 0.99983804,  0.9998571 ,  0.94190976,  0.98733082,  0.98658296,\n",
       "         0.76829323,  0.99957764,  0.93498847,  0.99996189,  0.95725918]),\n",
       " 'param_bootstrap': masked_array(data = [False False True True True True False True False True],\n",
       "              mask = [False False False False False False False False False False],\n",
       "        fill_value = ?),\n",
       " 'param_max_depth': masked_array(data = [77 None 32 None 77 10 77 32 55 77],\n",
       "              mask = [False False False False False False False False False False],\n",
       "        fill_value = ?),\n",
       " 'param_max_features': masked_array(data = ['sqrt' 'sqrt' 'auto' 'auto' 'sqrt' 'sqrt' 'sqrt' 'auto' 'sqrt' 'sqrt'],\n",
       "              mask = [False False False False False False False False False False],\n",
       "        fill_value = ?),\n",
       " 'param_min_samples_leaf': masked_array(data = [1 1 4 2 2 4 2 4 1 2],\n",
       "              mask = [False False False False False False False False False False],\n",
       "        fill_value = ?),\n",
       " 'param_min_samples_split': masked_array(data = [5 5 2 2 2 10 2 10 2 10],\n",
       "              mask = [False False False False False False False False False False],\n",
       "        fill_value = ?),\n",
       " 'param_n_estimators': masked_array(data = [200 2000 650 650 200 1100 650 200 2000 1550],\n",
       "              mask = [False False False False False False False False False False],\n",
       "        fill_value = ?),\n",
       " 'params': [{'bootstrap': False,\n",
       "   'max_depth': 77,\n",
       "   'max_features': 'sqrt',\n",
       "   'min_samples_leaf': 1,\n",
       "   'min_samples_split': 5,\n",
       "   'n_estimators': 200},\n",
       "  {'bootstrap': False,\n",
       "   'max_depth': None,\n",
       "   'max_features': 'sqrt',\n",
       "   'min_samples_leaf': 1,\n",
       "   'min_samples_split': 5,\n",
       "   'n_estimators': 2000},\n",
       "  {'bootstrap': True,\n",
       "   'max_depth': 32,\n",
       "   'max_features': 'auto',\n",
       "   'min_samples_leaf': 4,\n",
       "   'min_samples_split': 2,\n",
       "   'n_estimators': 650},\n",
       "  {'bootstrap': True,\n",
       "   'max_depth': None,\n",
       "   'max_features': 'auto',\n",
       "   'min_samples_leaf': 2,\n",
       "   'min_samples_split': 2,\n",
       "   'n_estimators': 650},\n",
       "  {'bootstrap': True,\n",
       "   'max_depth': 77,\n",
       "   'max_features': 'sqrt',\n",
       "   'min_samples_leaf': 2,\n",
       "   'min_samples_split': 2,\n",
       "   'n_estimators': 200},\n",
       "  {'bootstrap': True,\n",
       "   'max_depth': 10,\n",
       "   'max_features': 'sqrt',\n",
       "   'min_samples_leaf': 4,\n",
       "   'min_samples_split': 10,\n",
       "   'n_estimators': 1100},\n",
       "  {'bootstrap': False,\n",
       "   'max_depth': 77,\n",
       "   'max_features': 'sqrt',\n",
       "   'min_samples_leaf': 2,\n",
       "   'min_samples_split': 2,\n",
       "   'n_estimators': 650},\n",
       "  {'bootstrap': True,\n",
       "   'max_depth': 32,\n",
       "   'max_features': 'auto',\n",
       "   'min_samples_leaf': 4,\n",
       "   'min_samples_split': 10,\n",
       "   'n_estimators': 200},\n",
       "  {'bootstrap': False,\n",
       "   'max_depth': 55,\n",
       "   'max_features': 'sqrt',\n",
       "   'min_samples_leaf': 1,\n",
       "   'min_samples_split': 2,\n",
       "   'n_estimators': 2000},\n",
       "  {'bootstrap': True,\n",
       "   'max_depth': 77,\n",
       "   'max_features': 'sqrt',\n",
       "   'min_samples_leaf': 2,\n",
       "   'min_samples_split': 10,\n",
       "   'n_estimators': 1550}],\n",
       " 'rank_test_score': array([ 4,  2,  8,  5,  6, 10,  3,  9,  1,  7], dtype=int32),\n",
       " 'split0_test_score': array([ 0.56948917,  0.57031801,  0.54920641,  0.55820932,  0.55754244,\n",
       "         0.60063259,  0.56778385,  0.5496637 ,  0.5781777 ,  0.54970181]),\n",
       " 'split0_train_score': array([ 0.99997142,  0.99998095,  0.9746918 ,  0.99481737,  0.99445535,\n",
       "         0.84287293,  0.99983804,  0.97170036,  1.        ,  0.98168931]),\n",
       " 'split1_test_score': array([ 0.87267306,  0.87376865,  0.86802393,  0.87294934,  0.87109159,\n",
       "         0.80571804,  0.87382581,  0.86620429,  0.87029133,  0.87079626]),\n",
       " 'split1_train_score': array([ 0.99976183,  0.99980946,  0.92512337,  0.98350418,  0.9825896 ,\n",
       "         0.73038412,  0.99949507,  0.91597279,  0.99995237,  0.94499171]),\n",
       " 'split2_test_score': array([ 0.87306366,  0.87411162,  0.86713793,  0.87306366,  0.87284454,\n",
       "         0.80704228,  0.87418783,  0.86719509,  0.87039613,  0.87132976]),\n",
       " 'split2_train_score': array([ 0.99978088,  0.99978088,  0.92591411,  0.9836709 ,  0.98270392,\n",
       "         0.73162262,  0.99939981,  0.91729227,  0.99993331,  0.94509651]),\n",
       " 'std_fit_time': array([  11.29885629,  179.55193575,   44.7797256 ,  306.72326975,\n",
       "         105.6242982 ,   43.88806731,  145.03496949,   32.43116402,\n",
       "         138.3304195 ,  337.23247958]),\n",
       " 'std_score_time': array([   6.05281117,  216.51673564,   36.66049113,  269.17012955,\n",
       "           0.49164444,    0.8147828 ,   52.59848251,    2.92991495,\n",
       "         421.72962999,  357.05764522]),\n",
       " 'std_test_score': array([ 0.14301441,  0.14312891,  0.15008362,  0.14839682,  0.14822339,\n",
       "         0.09699184,  0.14435497,  0.14945275,  0.1377284 ,  0.15149128]),\n",
       " 'std_train_score': array([  9.46316866e-05,   8.83487843e-05,   2.31826531e-02,\n",
       "          5.29422866e-03,   5.56681631e-03,   5.27382390e-02,\n",
       "          1.88194684e-04,   2.59648131e-02,   2.80464178e-05,\n",
       "          1.72747656e-02])}"
      ]
     },
     "execution_count": 213,
     "metadata": {
      "tags": []
     },
     "output_type": "execute_result"
    }
   ],
   "source": [
    "rf_random.cv_results_"
   ]
  },
  {
   "cell_type": "markdown",
   "metadata": {
    "colab_type": "text",
    "id": "j2Z2ldN8n3rn"
   },
   "source": [
    "#### Hyper parameter tuning of Random Forest using Grid Search CV"
   ]
  },
  {
   "cell_type": "code",
   "execution_count": null,
   "metadata": {
    "colab": {
     "autoexec": {
      "startup": false,
      "wait_interval": 0
     }
    },
    "colab_type": "code",
    "id": "eXon0Ebln3rp"
   },
   "outputs": [],
   "source": [
    "# Create the parameter grid based on the results of random search \n",
    "param_grid = {\n",
    "    'bootstrap': [False],\n",
    "    'max_depth': [45, 55, 65, 70],\n",
    "    'max_features': ['sqrt'],\n",
    "    'min_samples_leaf': [1, 2, 4],\n",
    "    'min_samples_split': [2, 3, 4],\n",
    "    'n_estimators': [1900, 2000, 2100]\n",
    "}\n",
    "\n",
    "# Create a base model\n",
    "rf = RandomForestClassifier(random_state = 42)"
   ]
  },
  {
   "cell_type": "code",
   "execution_count": 44,
   "metadata": {
    "colab": {
     "autoexec": {
      "startup": false,
      "wait_interval": 0
     },
     "base_uri": "https://localhost:8080/",
     "height": 54
    },
    "colab_type": "code",
    "executionInfo": {
     "elapsed": 313,
     "status": "ok",
     "timestamp": 1533013787358,
     "user": {
      "displayName": "Tanay Sood",
      "photoUrl": "//lh3.googleusercontent.com/-2M5-3q3S6Qk/AAAAAAAAAAI/AAAAAAAABTc/dmS5NxrNt0g/s50-c-k-no/photo.jpg",
      "userId": "113123360936150899713"
     },
     "user_tz": 420
    },
    "id": "RMjdi-BTn3rq",
    "outputId": "05dbbd73-af49-4aa1-ca51-a4d22c304263"
   },
   "outputs": [
    {
     "name": "stdout",
     "output_type": "stream",
     "text": [
      "{'bootstrap': [False], 'max_depth': [45, 55, 65, 70], 'max_features': ['sqrt'], 'min_samples_leaf': [1, 2, 4], 'min_samples_split': [2, 3, 4], 'n_estimators': [1900, 2000, 2100]}\n"
     ]
    }
   ],
   "source": [
    "print(param_grid)"
   ]
  },
  {
   "cell_type": "code",
   "execution_count": null,
   "metadata": {
    "colab": {
     "autoexec": {
      "startup": false,
      "wait_interval": 0
     }
    },
    "colab_type": "code",
    "id": "F11xraVvn3rt"
   },
   "outputs": [],
   "source": [
    "# Instantiate the grid search model\n",
    "grid_search = GridSearchCV(estimator = rf, param_grid = param_grid, \n",
    "                          cv = 3, n_jobs = -1, return_train_score=True, verbose=4)"
   ]
  },
  {
   "cell_type": "code",
   "execution_count": null,
   "metadata": {
    "colab": {
     "autoexec": {
      "startup": false,
      "wait_interval": 0
     }
    },
    "colab_type": "code",
    "id": "DLGHAmqFn3rw"
   },
   "outputs": [],
   "source": [
    "# Fit the grid search to the data\n",
    "grid_search.fit(X_resampled, y_resampled)"
   ]
  },
  {
   "cell_type": "markdown",
   "metadata": {
    "colab_type": "text",
    "id": "gIhxJdBXxzv4"
   },
   "source": [
    "### Classification (Random Forest) with Scaling"
   ]
  },
  {
   "cell_type": "code",
   "execution_count": 84,
   "metadata": {
    "colab": {
     "autoexec": {
      "startup": false,
      "wait_interval": 0
     }
    },
    "colab_type": "code",
    "id": "q6YCFCcZn3r4",
    "outputId": "3a0d4468-5a74-4297-c90d-09f16bdb863d"
   },
   "outputs": [
    {
     "name": "stdout",
     "output_type": "stream",
     "text": [
      "Accuracy with Scaling: 0.6875947174713142\n",
      "Accuracy without Scaling: 0.6887926679656491\n"
     ]
    }
   ],
   "source": [
    "# Setup the pipeline steps: steps\n",
    "steps = [('scaler', StandardScaler()),\n",
    "        ('rfc', RandomForestClassifier())]\n",
    "\n",
    "#X_resampled, y_resampled\n",
    "#Xtestlr, ytestlr\n",
    "        \n",
    "# Create the pipeline: pipeline\n",
    "pipeline = Pipeline(steps)\n",
    "\n",
    "# Fit the pipeline to the training set: knn_scaled\n",
    "knn_scaled = pipeline.fit(X_resampled, y_resampled)\n",
    "\n",
    "# Instantiate and fit a k-NN classifier to the unscaled data\n",
    "knn_unscaled = RandomForestClassifier().fit(X_resampled, y_resampled)\n",
    "\n",
    "# Compute and print metrics\n",
    "print('Accuracy with Scaling: {}'.format(knn_scaled.score(Xtestlr, ytestlr)))\n",
    "print('Accuracy without Scaling: {}'.format(knn_unscaled.score(Xtestlr, ytestlr)))"
   ]
  },
  {
   "cell_type": "markdown",
   "metadata": {
    "colab_type": "text",
    "id": "AigA1rNbxI68"
   },
   "source": [
    "### Gradient Boosting using XGBoost"
   ]
  },
  {
   "cell_type": "markdown",
   "metadata": {},
   "source": [
    "#### XGBoost classifier (naive)"
   ]
  },
  {
   "cell_type": "code",
   "execution_count": 48,
   "metadata": {
    "colab": {
     "autoexec": {
      "startup": false,
      "wait_interval": 0
     },
     "base_uri": "https://localhost:8080/",
     "height": 119
    },
    "colab_type": "code",
    "executionInfo": {
     "elapsed": 13485,
     "status": "ok",
     "timestamp": 1533014045501,
     "user": {
      "displayName": "Tanay Sood",
      "photoUrl": "//lh3.googleusercontent.com/-2M5-3q3S6Qk/AAAAAAAAAAI/AAAAAAAABTc/dmS5NxrNt0g/s50-c-k-no/photo.jpg",
      "userId": "113123360936150899713"
     },
     "user_tz": 420
    },
    "id": "0S3bNTZov7uH",
    "outputId": "f0810af7-9e3b-40ef-b7c9-b0fe97421195"
   },
   "outputs": [
    {
     "data": {
      "text/plain": [
       "XGBClassifier(base_score=0.5, booster='gbtree', colsample_bylevel=1,\n",
       "       colsample_bytree=1, gamma=0, learning_rate=0.1, max_delta_step=0,\n",
       "       max_depth=3, min_child_weight=1, missing=None, n_estimators=100,\n",
       "       n_jobs=1, nthread=None, objective='binary:logistic', random_state=0,\n",
       "       reg_alpha=0, reg_lambda=1, scale_pos_weight=1, seed=None,\n",
       "       silent=True, subsample=1)"
      ]
     },
     "execution_count": 48,
     "metadata": {
      "tags": []
     },
     "output_type": "execute_result"
    }
   ],
   "source": [
    "model = XGBClassifier()\n",
    "model.fit(X_resampled, y_resampled)"
   ]
  },
  {
   "cell_type": "code",
   "execution_count": 49,
   "metadata": {
    "colab": {
     "autoexec": {
      "startup": false,
      "wait_interval": 0
     },
     "base_uri": "https://localhost:8080/",
     "height": 88
    },
    "colab_type": "code",
    "executionInfo": {
     "elapsed": 697,
     "status": "ok",
     "timestamp": 1533014073565,
     "user": {
      "displayName": "Tanay Sood",
      "photoUrl": "//lh3.googleusercontent.com/-2M5-3q3S6Qk/AAAAAAAAAAI/AAAAAAAABTc/dmS5NxrNt0g/s50-c-k-no/photo.jpg",
      "userId": "113123360936150899713"
     },
     "user_tz": 420
    },
    "id": "_Ibz8WGEwLIM",
    "outputId": "6cfbf9e9-3ef7-4347-a980-18e121696574"
   },
   "outputs": [
    {
     "name": "stdout",
     "output_type": "stream",
     "text": [
      "Accuracy: 73.41%\n"
     ]
    },
    {
     "name": "stderr",
     "output_type": "stream",
     "text": [
      "/usr/local/lib/python3.6/dist-packages/sklearn/preprocessing/label.py:151: DeprecationWarning: The truth value of an empty array is ambiguous. Returning False, but in future this will result in an error. Use `array.size > 0` to check that an array is not empty.\n",
      "  if diff:\n"
     ]
    }
   ],
   "source": [
    "# make predictions for test data\n",
    "# Xtestlr, ytestlr\n",
    "y_pred = model.predict(Xtestlr)\n",
    "# evaluate predictions\n",
    "accuracy = accuracy_score(ytestlr, y_pred)\n",
    "print(\"Accuracy: %.2f%%\" % (accuracy * 100.0))"
   ]
  },
  {
   "cell_type": "code",
   "execution_count": 50,
   "metadata": {
    "colab": {
     "autoexec": {
      "startup": false,
      "wait_interval": 0
     },
     "base_uri": "https://localhost:8080/",
     "height": 51
    },
    "colab_type": "code",
    "executionInfo": {
     "elapsed": 368,
     "status": "ok",
     "timestamp": 1533014125113,
     "user": {
      "displayName": "Tanay Sood",
      "photoUrl": "//lh3.googleusercontent.com/-2M5-3q3S6Qk/AAAAAAAAAAI/AAAAAAAABTc/dmS5NxrNt0g/s50-c-k-no/photo.jpg",
      "userId": "113123360936150899713"
     },
     "user_tz": 420
    },
    "id": "Wx_pY7EIwl1t",
    "outputId": "b7b8eea6-8456-42fd-9611-5f3ae6b7b941"
   },
   "outputs": [
    {
     "data": {
      "text/plain": [
       "array([0.06033183, 0.50980395, 0.20361991, 0.05580694, 0.10105581,\n",
       "       0.0693816 ], dtype=float32)"
      ]
     },
     "execution_count": 50,
     "metadata": {
      "tags": []
     },
     "output_type": "execute_result"
    }
   ],
   "source": [
    "model.feature_importances_"
   ]
  },
  {
   "cell_type": "markdown",
   "metadata": {},
   "source": [
    "#### XGBoost using early stopping"
   ]
  },
  {
   "cell_type": "code",
   "execution_count": 53,
   "metadata": {
    "colab": {
     "autoexec": {
      "startup": false,
      "wait_interval": 0
     },
     "base_uri": "https://localhost:8080/",
     "height": 1836
    },
    "colab_type": "code",
    "executionInfo": {
     "elapsed": 15173,
     "status": "ok",
     "timestamp": 1533014554022,
     "user": {
      "displayName": "Tanay Sood",
      "photoUrl": "//lh3.googleusercontent.com/-2M5-3q3S6Qk/AAAAAAAAAAI/AAAAAAAABTc/dmS5NxrNt0g/s50-c-k-no/photo.jpg",
      "userId": "113123360936150899713"
     },
     "user_tz": 420
    },
    "id": "NvEB5pNWxZrZ",
    "outputId": "95161152-6a0e-4a31-e887-359fd9668c80"
   },
   "outputs": [
    {
     "name": "stdout",
     "output_type": "stream",
     "text": [
      "[0]\tvalidation_0-logloss:0.674542\n",
      "Will train until validation_0-logloss hasn't improved in 10 rounds.\n",
      "[1]\tvalidation_0-logloss:0.65959\n",
      "[2]\tvalidation_0-logloss:0.647495\n",
      "[3]\tvalidation_0-logloss:0.637671\n",
      "[4]\tvalidation_0-logloss:0.629663\n",
      "[5]\tvalidation_0-logloss:0.623125\n",
      "[6]\tvalidation_0-logloss:0.617781\n",
      "[7]\tvalidation_0-logloss:0.613406\n",
      "[8]\tvalidation_0-logloss:0.609829\n",
      "[9]\tvalidation_0-logloss:0.606323\n",
      "[10]\tvalidation_0-logloss:0.603409\n",
      "[11]\tvalidation_0-logloss:0.601319\n",
      "[12]\tvalidation_0-logloss:0.599124\n",
      "[13]\tvalidation_0-logloss:0.597224\n",
      "[14]\tvalidation_0-logloss:0.591411\n",
      "[15]\tvalidation_0-logloss:0.589108\n",
      "[16]\tvalidation_0-logloss:0.587543\n",
      "[17]\tvalidation_0-logloss:0.585386\n",
      "[18]\tvalidation_0-logloss:0.58196\n",
      "[19]\tvalidation_0-logloss:0.580544\n",
      "[20]\tvalidation_0-logloss:0.57676\n",
      "[21]\tvalidation_0-logloss:0.575418\n",
      "[22]\tvalidation_0-logloss:0.574052\n",
      "[23]\tvalidation_0-logloss:0.572041\n",
      "[24]\tvalidation_0-logloss:0.571154\n",
      "[25]\tvalidation_0-logloss:0.570345\n",
      "[26]\tvalidation_0-logloss:0.569564\n",
      "[27]\tvalidation_0-logloss:0.568775\n",
      "[28]\tvalidation_0-logloss:0.567964\n",
      "[29]\tvalidation_0-logloss:0.566812\n",
      "[30]\tvalidation_0-logloss:0.566094\n",
      "[31]\tvalidation_0-logloss:0.565501\n",
      "[32]\tvalidation_0-logloss:0.564996\n",
      "[33]\tvalidation_0-logloss:0.563929\n",
      "[34]\tvalidation_0-logloss:0.563091\n",
      "[35]\tvalidation_0-logloss:0.561776\n",
      "[36]\tvalidation_0-logloss:0.561475\n",
      "[37]\tvalidation_0-logloss:0.560914\n",
      "[38]\tvalidation_0-logloss:0.560568\n",
      "[39]\tvalidation_0-logloss:0.55949\n",
      "[40]\tvalidation_0-logloss:0.558676\n",
      "[41]\tvalidation_0-logloss:0.557288\n",
      "[42]\tvalidation_0-logloss:0.557089\n",
      "[43]\tvalidation_0-logloss:0.556312\n",
      "[44]\tvalidation_0-logloss:0.555676\n",
      "[45]\tvalidation_0-logloss:0.555476\n",
      "[46]\tvalidation_0-logloss:0.555407\n",
      "[47]\tvalidation_0-logloss:0.554176\n",
      "[48]\tvalidation_0-logloss:0.553626\n",
      "[49]\tvalidation_0-logloss:0.552807\n",
      "[50]\tvalidation_0-logloss:0.552501\n",
      "[51]\tvalidation_0-logloss:0.551547\n",
      "[52]\tvalidation_0-logloss:0.550605\n",
      "[53]\tvalidation_0-logloss:0.550509\n",
      "[54]\tvalidation_0-logloss:0.549982\n",
      "[55]\tvalidation_0-logloss:0.549831\n",
      "[56]\tvalidation_0-logloss:0.549438\n",
      "[57]\tvalidation_0-logloss:0.548866\n",
      "[58]\tvalidation_0-logloss:0.548821\n",
      "[59]\tvalidation_0-logloss:0.548713\n",
      "[60]\tvalidation_0-logloss:0.548692\n",
      "[61]\tvalidation_0-logloss:0.548114\n",
      "[62]\tvalidation_0-logloss:0.547626\n",
      "[63]\tvalidation_0-logloss:0.547309\n",
      "[64]\tvalidation_0-logloss:0.547191\n",
      "[65]\tvalidation_0-logloss:0.54692\n",
      "[66]\tvalidation_0-logloss:0.546402\n",
      "[67]\tvalidation_0-logloss:0.546345\n",
      "[68]\tvalidation_0-logloss:0.546196\n",
      "[69]\tvalidation_0-logloss:0.546132\n",
      "[70]\tvalidation_0-logloss:0.545907\n",
      "[71]\tvalidation_0-logloss:0.545196\n",
      "[72]\tvalidation_0-logloss:0.545157\n",
      "[73]\tvalidation_0-logloss:0.545115\n",
      "[74]\tvalidation_0-logloss:0.544692\n",
      "[75]\tvalidation_0-logloss:0.544508\n",
      "[76]\tvalidation_0-logloss:0.544118\n",
      "[77]\tvalidation_0-logloss:0.54399\n",
      "[78]\tvalidation_0-logloss:0.543368\n",
      "[79]\tvalidation_0-logloss:0.543235\n",
      "[80]\tvalidation_0-logloss:0.543124\n",
      "[81]\tvalidation_0-logloss:0.543105\n",
      "[82]\tvalidation_0-logloss:0.54278\n",
      "[83]\tvalidation_0-logloss:0.542728\n",
      "[84]\tvalidation_0-logloss:0.542664\n",
      "[85]\tvalidation_0-logloss:0.54256\n",
      "[86]\tvalidation_0-logloss:0.542174\n",
      "[87]\tvalidation_0-logloss:0.541896\n",
      "[88]\tvalidation_0-logloss:0.541919\n",
      "[89]\tvalidation_0-logloss:0.541856\n",
      "[90]\tvalidation_0-logloss:0.541816\n",
      "[91]\tvalidation_0-logloss:0.541718\n",
      "[92]\tvalidation_0-logloss:0.541689\n",
      "[93]\tvalidation_0-logloss:0.541419\n",
      "[94]\tvalidation_0-logloss:0.541108\n",
      "[95]\tvalidation_0-logloss:0.541046\n",
      "[96]\tvalidation_0-logloss:0.540947\n",
      "[97]\tvalidation_0-logloss:0.540922\n",
      "[98]\tvalidation_0-logloss:0.540699\n",
      "[99]\tvalidation_0-logloss:0.540655\n"
     ]
    },
    {
     "data": {
      "text/plain": [
       "XGBClassifier(base_score=0.5, booster='gbtree', colsample_bylevel=1,\n",
       "       colsample_bytree=1, gamma=0, learning_rate=0.1, max_delta_step=0,\n",
       "       max_depth=3, min_child_weight=1, missing=None, n_estimators=100,\n",
       "       n_jobs=1, nthread=None, objective='binary:logistic', random_state=0,\n",
       "       reg_alpha=0, reg_lambda=1, scale_pos_weight=1, seed=None,\n",
       "       silent=True, subsample=1)"
      ]
     },
     "execution_count": 53,
     "metadata": {
      "tags": []
     },
     "output_type": "execute_result"
    }
   ],
   "source": [
    "# fit model on training data\n",
    "xgb = XGBClassifier()\n",
    "eval_set = [(Xtestlr, ytestlr)]\n",
    "xgb.fit(X_resampled, y_resampled, early_stopping_rounds=10, eval_metric=\"logloss\", eval_set=eval_set, verbose=True)"
   ]
  },
  {
   "cell_type": "code",
   "execution_count": 54,
   "metadata": {
    "colab": {
     "autoexec": {
      "startup": false,
      "wait_interval": 0
     },
     "base_uri": "https://localhost:8080/",
     "height": 88
    },
    "colab_type": "code",
    "executionInfo": {
     "elapsed": 675,
     "status": "ok",
     "timestamp": 1533014562208,
     "user": {
      "displayName": "Tanay Sood",
      "photoUrl": "//lh3.googleusercontent.com/-2M5-3q3S6Qk/AAAAAAAAAAI/AAAAAAAABTc/dmS5NxrNt0g/s50-c-k-no/photo.jpg",
      "userId": "113123360936150899713"
     },
     "user_tz": 420
    },
    "id": "lzmVxhE1x_bx",
    "outputId": "d685ece5-a317-4e5f-ae91-7d57614842c1"
   },
   "outputs": [
    {
     "name": "stdout",
     "output_type": "stream",
     "text": [
      "Accuracy: 73.41%\n"
     ]
    },
    {
     "name": "stderr",
     "output_type": "stream",
     "text": [
      "/usr/local/lib/python3.6/dist-packages/sklearn/preprocessing/label.py:151: DeprecationWarning: The truth value of an empty array is ambiguous. Returning False, but in future this will result in an error. Use `array.size > 0` to check that an array is not empty.\n",
      "  if diff:\n"
     ]
    }
   ],
   "source": [
    "# make predictions for test data\n",
    "y_pred = xgb.predict(Xtestlr)\n",
    "# evaluate predictions\n",
    "accuracy = accuracy_score(ytestlr, y_pred)\n",
    "print(\"Accuracy: %.2f%%\" % (accuracy * 100.0))"
   ]
  },
  {
   "cell_type": "markdown",
   "metadata": {},
   "source": [
    "#### Hyper Parameter tuning for XGBoost"
   ]
  },
  {
   "cell_type": "code",
   "execution_count": null,
   "metadata": {
    "colab": {
     "autoexec": {
      "startup": false,
      "wait_interval": 0
     }
    },
    "colab_type": "code",
    "id": "o96DIo7Tyhdg"
   },
   "outputs": [],
   "source": [
    "n_estimators = [50, 100, 150, 200]\n",
    "max_depth = [2, 4, 6, 8]\n",
    "param_grid = dict(max_depth=max_depth, n_estimators=n_estimators)"
   ]
  },
  {
   "cell_type": "code",
   "execution_count": null,
   "metadata": {
    "colab": {
     "autoexec": {
      "startup": false,
      "wait_interval": 0
     },
     "base_uri": "https://localhost:8080/",
     "height": 51
    },
    "colab_type": "code",
    "id": "yTOZLcYwy1WE",
    "outputId": "44d120cc-f12a-4ce0-b4d2-9fa9e056034c"
   },
   "outputs": [
    {
     "name": "stdout",
     "output_type": "stream",
     "text": [
      "Fitting 10 folds for each of 16 candidates, totalling 160 fits\n"
     ]
    },
    {
     "name": "stderr",
     "output_type": "stream",
     "text": [
      "[Parallel(n_jobs=-1)]: Done  46 tasks      | elapsed:  7.2min\n"
     ]
    }
   ],
   "source": [
    "kfold = StratifiedKFold(n_splits=10, shuffle=True, random_state=7)\n",
    "grid_search = GridSearchCV(xgb, param_grid, scoring=\"neg_log_loss\", n_jobs=-1, cv=kfold,\n",
    "verbose=1)\n",
    "result = grid_search.fit(X_resampled, y_resampled)"
   ]
  },
  {
   "cell_type": "code",
   "execution_count": null,
   "metadata": {
    "colab": {
     "autoexec": {
      "startup": false,
      "wait_interval": 0
     }
    },
    "colab_type": "code",
    "id": "ds6JK-mRzPSs"
   },
   "outputs": [],
   "source": [
    "# summarize results\n",
    "print(\"Best: %f using %s\" % (grid_result.best_score_, grid_result.best_params_))\n",
    "means = grid_result.cv_results_['mean_test_score']\n",
    "stds = grid_result.cv_results_['std_test_score']\n",
    "params = grid_result.cv_results_['params']\n",
    "for mean, stdev, param in zip(means, stds, params):\n",
    "    print(\"%f (%f) with: %r\" % (mean, stdev, param))"
   ]
  },
  {
   "cell_type": "markdown",
   "metadata": {},
   "source": [
    "#### OOB Errors for Random Forests¶"
   ]
  },
  {
   "cell_type": "code",
   "execution_count": null,
   "metadata": {},
   "outputs": [],
   "source": [
    "print(__doc__)\n",
    "\n",
    "RANDOM_STATE = 123\n",
    "\n",
    "# NOTE: Setting the `warm_start` construction parameter to `True` disables\n",
    "# support for parallelized ensembles but is necessary for tracking the OOB\n",
    "# error trajectory during training.\n",
    "ensemble_clfs = [\n",
    "    (\"RandomForestClassifier, max_features='sqrt'\",\n",
    "        RandomForestClassifier(warm_start=True, oob_score=True,\n",
    "                               max_features=\"sqrt\",\n",
    "                               random_state=RANDOM_STATE)),\n",
    "    (\"RandomForestClassifier, max_features='log2'\",\n",
    "        RandomForestClassifier(warm_start=True, max_features='log2',\n",
    "                               oob_score=True,\n",
    "                               random_state=RANDOM_STATE)),\n",
    "    (\"RandomForestClassifier, max_features=None\",\n",
    "        RandomForestClassifier(warm_start=True, max_features=None,\n",
    "                               oob_score=True,\n",
    "                               random_state=RANDOM_STATE))\n",
    "]\n",
    "\n",
    "# Map a classifier name to a list of (<n_estimators>, <error rate>) pairs.\n",
    "error_rate = OrderedDict((label, []) for label, _ in ensemble_clfs)\n",
    "\n",
    "# Range of `n_estimators` values to explore.\n",
    "min_estimators = 15\n",
    "max_estimators = 1500\n",
    "\n",
    "for label, clf in ensemble_clfs:\n",
    "    for i in range(min_estimators, max_estimators + 1):\n",
    "        clf.set_params(n_estimators=i)\n",
    "        clf.fit(X_resampled, y_resampled)\n",
    "\n",
    "        # Record the OOB error for each `n_estimators=i` setting.\n",
    "        oob_error = 1 - clf.oob_score_\n",
    "        error_rate[label].append((i, oob_error))\n",
    "\n",
    "# Generate the \"OOB error rate\" vs. \"n_estimators\" plot.\n",
    "for label, clf_err in error_rate.items():\n",
    "    xs, ys = zip(*clf_err)\n",
    "    plt.plot(xs, ys, label=label)\n",
    "\n",
    "plt.xlim(min_estimators, max_estimators)\n",
    "plt.xlabel(\"n_estimators\")\n",
    "plt.ylabel(\"OOB error rate\")\n",
    "plt.legend(loc=\"upper right\")\n",
    "plt.show()"
   ]
  },
  {
   "cell_type": "markdown",
   "metadata": {
    "colab_type": "text",
    "id": "9iNOafBtn3q3"
   },
   "source": [
    "### Predict loan status for loans with status = 'Current'"
   ]
  },
  {
   "cell_type": "code",
   "execution_count": 72,
   "metadata": {
    "colab": {
     "autoexec": {
      "startup": false,
      "wait_interval": 0
     }
    },
    "colab_type": "code",
    "id": "h-zVYgtKn3q4",
    "outputId": "4875576b-a010-4511-d3bc-b5cfa5347ea8"
   },
   "outputs": [
    {
     "name": "stderr",
     "output_type": "stream",
     "text": [
      "/usr/local/lib/python3.6/site-packages/ipykernel_launcher.py:1: SettingWithCopyWarning: \n",
      "A value is trying to be set on a copy of a slice from a DataFrame.\n",
      "Try using .loc[row_indexer,col_indexer] = value instead\n",
      "\n",
      "See the caveats in the documentation: http://pandas.pydata.org/pandas-docs/stable/indexing.html#indexing-view-versus-copy\n",
      "  \"\"\"Entry point for launching an IPython kernel.\n"
     ]
    }
   ],
   "source": [
    "loans_df_curr['loan_status_pred']=clf_rf_1.predict(loans_df_curr[['loan_amnt', 'credit_grade', 'int_rate', 'derived_income', 'derived_dti', 'inst_inc_ratio']])"
   ]
  },
  {
   "cell_type": "code",
   "execution_count": 73,
   "metadata": {
    "colab": {
     "autoexec": {
      "startup": false,
      "wait_interval": 0
     }
    },
    "colab_type": "code",
    "id": "mpGZ0uwzn3q-",
    "outputId": "35f8f552-f1c9-4963-ebce-722f918d8183"
   },
   "outputs": [
    {
     "data": {
      "image/png": "[encoded data removed]",
      "text/plain": [
       "<Figure size 432x288 with 1 Axes>"
      ]
     },
     "metadata": {},
     "output_type": "display_data"
    }
   ],
   "source": [
    "sns.set(style='darkgrid')\n",
    "_=sns.countplot(x='loan_status_pred', data=loans_df_curr, order = loans_df_curr['loan_status_pred'].value_counts().index, hue='credit_grade')"
   ]
  },
  {
   "cell_type": "code",
   "execution_count": null,
   "metadata": {},
   "outputs": [],
   "source": []
  }
 ],
 "metadata": {
  "colab": {
   "collapsed_sections": [
    "XAdPSZYPn3pQ",
    "KUYOXSpcn3p3",
    "Vl5dxaUEn3qV",
    "Ogc8KKG7n3ql",
    "9iNOafBtn3q3",
    "t7zbZ1aOn3rD",
    "zW3Qx1Frn3rV"
   ],
   "default_view": {},
   "name": "Capstone_I_workbook_v2.ipynb",
   "provenance": [],
   "version": "0.3.2",
   "views": {}
  },
  "kernelspec": {
   "display_name": "Python 3",
   "language": "python",
   "name": "python3"
  },
  "language_info": {
   "codemirror_mode": {
    "name": "ipython",
    "version": 3
   },
   "file_extension": ".py",
   "mimetype": "text/x-python",
   "name": "python",
   "nbconvert_exporter": "python",
   "pygments_lexer": "ipython3",
   "version": "3.6.5"
  }
 },
 "nbformat": 4,
 "nbformat_minor": 2
}
