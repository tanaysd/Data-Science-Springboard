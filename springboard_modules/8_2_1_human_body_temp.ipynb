{
 "cells": [
  {
   "cell_type": "markdown",
   "metadata": {},
   "source": [
    "# What is the True Normal Human Body Temperature? \n",
    "\n",
    "#### Background\n",
    "\n",
    "The mean normal body temperature was held to be 37$^{\\circ}$C or 98.6$^{\\circ}$F for more than 120 years since it was first conceptualized and reported by Carl Wunderlich in a famous 1868 book. But, is this value statistically correct?"
   ]
  },
  {
   "cell_type": "markdown",
   "metadata": {},
   "source": [
    "<h3>Exercises</h3>\n",
    "\n",
    "<p>In this exercise, you will analyze a dataset of human body temperatures and employ the concepts of hypothesis testing, confidence intervals, and statistical significance.</p>\n",
    "\n",
    "<p>Answer the following questions <b>in this notebook below and submit to your Github account</b>.</p> \n",
    "\n",
    "<ol>\n",
    "<li>  Is the distribution of body temperatures normal? \n",
    "    <ul>\n",
    "    <li> Although this is not a requirement for CLT to hold (read CLT carefully), it gives us some peace of mind that the population may also be normally distributed if we assume that this sample is representative of the population.\n",
    "    </ul>\n",
    "<li>  Is the sample size large? Are the observations independent?\n",
    "    <ul>\n",
    "    <li> Remember that this is a condition for the CLT, and hence the statistical tests we are using, to apply.\n",
    "    </ul>\n",
    "<li>  Is the true population mean really 98.6 degrees F?\n",
    "    <ul>\n",
    "    <li> Would you use a one-sample or two-sample test? Why?\n",
    "    <li> In this situation, is it appropriate to use the $t$ or $z$ statistic? \n",
    "    <li> Now try using the other test. How is the result be different? Why?\n",
    "    </ul>\n",
    "<li>  Draw a small sample of size 10 from the data and repeat both tests. \n",
    "    <ul>\n",
    "    <li> Which one is the correct one to use? \n",
    "    <li> What do you notice? What does this tell you about the difference in application of the $t$ and $z$ statistic?\n",
    "    </ul>\n",
    "<li>  At what temperature should we consider someone's temperature to be \"abnormal\"?\n",
    "    <ul>\n",
    "    <li> Start by computing the margin of error and confidence interval.\n",
    "    </ul>\n",
    "<li>  Is there a significant difference between males and females in normal temperature?\n",
    "    <ul>\n",
    "    <li> What test did you use and why?\n",
    "    <li> Write a story with your conclusion in the context of the original problem.\n",
    "    </ul>\n",
    "</ol>\n",
    "\n",
    "You can include written notes in notebook cells using Markdown: \n",
    "   - In the control panel at the top, choose Cell > Cell Type > Markdown\n",
    "   - Markdown syntax: http://nestacms.com/docs/creating-content/markdown-cheat-sheet\n",
    "\n",
    "#### Resources\n",
    "\n",
    "+ Information and data sources: http://www.amstat.org/publications/jse/datasets/normtemp.txt, http://www.amstat.org/publications/jse/jse_data_archive.htm\n",
    "+ Markdown syntax: http://nestacms.com/docs/creating-content/markdown-cheat-sheet\n",
    "\n",
    "****"
   ]
  },
  {
   "cell_type": "code",
   "execution_count": 71,
   "metadata": {},
   "outputs": [
    {
     "name": "stderr",
     "output_type": "stream",
     "text": [
      "/Library/Frameworks/Python.framework/Versions/3.6/lib/python3.6/site-packages/statsmodels/compat/pandas.py:56: FutureWarning: The pandas.core.datetools module is deprecated and will be removed in a future version. Please use the pandas.tseries module instead.\n",
      "  from pandas.core import datetools\n"
     ]
    }
   ],
   "source": [
    "import pandas as pd\n",
    "import matplotlib.pyplot as plt\n",
    "import numpy as np\n",
    "import seaborn as sns\n",
    "from scipy import stats\n",
    "from scipy.stats import probplot\n",
    "from scipy.stats.mstats import zscore\n",
    "import statsmodels.stats.api as sms\n",
    "%matplotlib inline\n",
    "\n",
    "df = pd.read_csv('data/human_body_temperature.csv')"
   ]
  },
  {
   "cell_type": "code",
   "execution_count": 56,
   "metadata": {},
   "outputs": [
    {
     "data": {
      "text/html": [
       "<div>\n",
       "<style scoped>\n",
       "    .dataframe tbody tr th:only-of-type {\n",
       "        vertical-align: middle;\n",
       "    }\n",
       "\n",
       "    .dataframe tbody tr th {\n",
       "        vertical-align: top;\n",
       "    }\n",
       "\n",
       "    .dataframe thead th {\n",
       "        text-align: right;\n",
       "    }\n",
       "</style>\n",
       "<table border=\"1\" class=\"dataframe\">\n",
       "  <thead>\n",
       "    <tr style=\"text-align: right;\">\n",
       "      <th></th>\n",
       "      <th>temperature</th>\n",
       "      <th>gender</th>\n",
       "      <th>heart_rate</th>\n",
       "    </tr>\n",
       "  </thead>\n",
       "  <tbody>\n",
       "    <tr>\n",
       "      <th>0</th>\n",
       "      <td>99.3</td>\n",
       "      <td>F</td>\n",
       "      <td>68.0</td>\n",
       "    </tr>\n",
       "    <tr>\n",
       "      <th>1</th>\n",
       "      <td>98.4</td>\n",
       "      <td>F</td>\n",
       "      <td>81.0</td>\n",
       "    </tr>\n",
       "    <tr>\n",
       "      <th>2</th>\n",
       "      <td>97.8</td>\n",
       "      <td>M</td>\n",
       "      <td>73.0</td>\n",
       "    </tr>\n",
       "    <tr>\n",
       "      <th>3</th>\n",
       "      <td>99.2</td>\n",
       "      <td>F</td>\n",
       "      <td>66.0</td>\n",
       "    </tr>\n",
       "    <tr>\n",
       "      <th>4</th>\n",
       "      <td>98.0</td>\n",
       "      <td>F</td>\n",
       "      <td>73.0</td>\n",
       "    </tr>\n",
       "  </tbody>\n",
       "</table>\n",
       "</div>"
      ],
      "text/plain": [
       "   temperature gender  heart_rate\n",
       "0         99.3      F        68.0\n",
       "1         98.4      F        81.0\n",
       "2         97.8      M        73.0\n",
       "3         99.2      F        66.0\n",
       "4         98.0      F        73.0"
      ]
     },
     "execution_count": 56,
     "metadata": {},
     "output_type": "execute_result"
    }
   ],
   "source": [
    "df.head()"
   ]
  },
  {
   "cell_type": "markdown",
   "metadata": {},
   "source": [
    "## Q1: Is the distribution of body temperatures normal?"
   ]
  },
  {
   "cell_type": "code",
   "execution_count": 57,
   "metadata": {},
   "outputs": [
    {
     "name": "stderr",
     "output_type": "stream",
     "text": [
      "/Library/Frameworks/Python.framework/Versions/3.6/lib/python3.6/site-packages/matplotlib/axes/_axes.py:6462: UserWarning: The 'normed' kwarg is deprecated, and has been replaced by the 'density' kwarg.\n",
      "  warnings.warn(\"The 'normed' kwarg is deprecated, and has been \"\n"
     ]
    },
    {
     "data": {
      "image/png": "[encoded data removed]",
      "text/plain": [
       "<Figure size 432x288 with 1 Axes>"
      ]
     },
     "metadata": {},
     "output_type": "display_data"
    }
   ],
   "source": [
    "_=sns.distplot(df['temperature'], bins=15)\n",
    "# Here, if you use '_' , you can avoid printing the pointer."
   ]
  },
  {
   "cell_type": "markdown",
   "metadata": {},
   "source": [
    "It looks like the body temperature distribution is normal and unimodal."
   ]
  },
  {
   "cell_type": "markdown",
   "metadata": {},
   "source": [
    "## Q2: Is the sample size large? Are the observations independent?"
   ]
  },
  {
   "cell_type": "code",
   "execution_count": 58,
   "metadata": {},
   "outputs": [
    {
     "data": {
      "text/plain": [
       "130"
      ]
     },
     "execution_count": 58,
     "metadata": {},
     "output_type": "execute_result"
    }
   ],
   "source": [
    "df.temperature.size"
   ]
  },
  {
   "cell_type": "markdown",
   "metadata": {},
   "source": [
    "If we assume that our Std deviation is .5 and Margin of error is +/- 5% , the z score corresponding to 95% Std deviation as 1.96 and world population as 7.6 billion,  by using the below formula we can say our sample size of 130 is insufficient as we would need 390 samples.\n",
    "\n",
    "Necessary Sample Size = (Z-score)2 * StdDev*(1-StdDev) / (margin of error)2\n",
    "\n",
    "But the rule of thumb says, we require at least 30 samples to satisfy the CLT conditions. Since our sample size is much larger than 30, we can safely say that the sample size is large enough.\n",
    "\n",
    "Also, the observations are that of temperature and heart rate of a particular person. It can be safely assumed that the measurements of temperature and heartbeat for one person is not affected by the measurements of another person. Furthermore, we have already discovered that the sampled distrbution is normal and this leads us to conclude that the distribution is a good representation of the population."
   ]
  },
  {
   "cell_type": "markdown",
   "metadata": {},
   "source": [
    "## Q3: Is the true population mean really 98.6 degrees F?\n",
    "    1) Would you use a one-sample or two-sample test? Why?\n",
    "    2) In this situation, is it appropriate to use the t or z statistic?\n",
    "    3) Now try using the other test. How is the result be different? Why?"
   ]
  },
  {
   "cell_type": "markdown",
   "metadata": {},
   "source": [
    "We do not have data about the true population mean as it is not possible to sample the entire population. However, we can perform a hypothesis test and calculate the appropriate p-value for the test. If it is below a threshold (say, p= 0.05), we can reject the hypothesis and if it is greater, we can accept it.\n",
    "\n",
    "For the purpose of this test, we define: <br>\n",
    "   - Null Hypothesis: The true population mean is 98.6 degrees F. <br>\n",
    "   - Alternate Hypothesis: The true population mean is not 98.6 degrees F.\n",
    "\n",
    "Let's assume null Hypothesis (H0) is true, it follows that the sample distribution mean is the same as the true population mean."
   ]
  },
  {
   "cell_type": "code",
   "execution_count": 59,
   "metadata": {},
   "outputs": [
    {
     "name": "stdout",
     "output_type": "stream",
     "text": [
      "130\n",
      "sample mean: 98.24923076923075\n",
      "sample std: 0.7331831580389456\n",
      "sigma x: 0.06430441683789102\n"
     ]
    }
   ],
   "source": [
    "true_mean = 98.6\n",
    "sample_mean = df['temperature'].mean()\n",
    "sample_std = df['temperature'].std()\n",
    "# Now calculating, standard error of the mean i.e. how far the sample mean of the data is likely to be from the true population mean.\n",
    "# We need the below value for the z-test.\n",
    "sigma_x = sample_std/np.sqrt(len(df))\n",
    "print(len(df))\n",
    "\n",
    "print(\"sample mean: %s\" %sample_mean)\n",
    "print(\"sample std: %s\" %sample_std)\n",
    "print(\"sigma x: %s\" %sigma_x)"
   ]
  },
  {
   "cell_type": "markdown",
   "metadata": {},
   "source": [
    "We have now obtained the values of the sample mean, the sample standard deviation and the sigma_x. The next step is to check how many standard deviations away is 98.6 (true mean) from 98.25 (sample mean)."
   ]
  },
  {
   "cell_type": "code",
   "execution_count": 60,
   "metadata": {},
   "outputs": [
    {
     "data": {
      "text/plain": [
       "-5.4548232923645195"
      ]
     },
     "execution_count": 60,
     "metadata": {},
     "output_type": "execute_result"
    }
   ],
   "source": [
    "z = (sample_mean - true_mean) / sigma_x\n",
    "z"
   ]
  },
  {
   "cell_type": "code",
   "execution_count": 61,
   "metadata": {},
   "outputs": [
    {
     "data": {
      "text/plain": [
       "4.902157013653152e-08"
      ]
     },
     "execution_count": 61,
     "metadata": {},
     "output_type": "execute_result"
    }
   ],
   "source": [
    "# Calculating p value where cdf stands for cumulative distribution function\n",
    "p = (1-stats.norm.cdf(np.abs(z)))*2\n",
    "p"
   ]
  },
  {
   "cell_type": "markdown",
   "metadata": {},
   "source": [
    "The p-value obtained is extremely small. If the null hypothesis was indeed true, the p-value would have been much greater. We can thus safely disregard the null hypothesis.\n",
    "\n",
    "The true population mean is NOT 98.6F.\n",
    "\n",
    "We used the one-sample test for this problem. This is because we were comparing the sample mean to a known value (98.6) and trying to find out if the true mean temperature of humans is actually 98.6F or not. Two-sample hypothesis testing is a statistical analysis designed to test if there is a difference between two means from two different populations. For example, a two-sample hypothesis could be used to test if there is a difference in the mean salary between male and female doctors in the New York City area.\n",
    "\n",
    "In this situation, it is more appropriate to use z-statistic because the sample size is greater than 30, thus satisfying the conditions for applying Central Limit Theorem."
   ]
  },
  {
   "cell_type": "markdown",
   "metadata": {},
   "source": [
    "#### Conclusions:\n",
    "\n",
    " 1) The p-value is extremely small. Therefore, we can reject the null hypothesis.<br>\n",
    " 2) The sample size is greater than 30. Hence, using the z-statistic is more appropriate. <br>\n",
    " 3) We are comparing the sample mean to known value of population mean. Hence, the one sample test is more appropriate. <br>\n",
    " 4) We are interested in knowing if the p-value on both sides of the tail. Therefore, we use the two-tailed test. <br>\n",
    "\n"
   ]
  },
  {
   "cell_type": "markdown",
   "metadata": {},
   "source": [
    "Applying T-Statistic\n",
    "In the previous section, we noted that the Z-Statistic is the more appropriate test to use in lieu of the sample size. In this section, we will apply the t-statistic to see if our results still hold and compare the p-values obtained in both the cases.\n"
   ]
  },
  {
   "cell_type": "code",
   "execution_count": 62,
   "metadata": {},
   "outputs": [
    {
     "data": {
      "text/plain": [
       "-5.4548232923645195"
      ]
     },
     "execution_count": 62,
     "metadata": {},
     "output_type": "execute_result"
    }
   ],
   "source": [
    "t = z\n",
    "t"
   ]
  },
  {
   "cell_type": "code",
   "execution_count": 63,
   "metadata": {},
   "outputs": [
    {
     "data": {
      "text/plain": [
       "2.4106320428707306e-07"
      ]
     },
     "execution_count": 63,
     "metadata": {},
     "output_type": "execute_result"
    }
   ],
   "source": [
    "(1 - stats.t.cdf(np.abs(t), len(df)-1))*2"
   ]
  },
  {
   "cell_type": "markdown",
   "metadata": {},
   "source": [
    "The p-value obtained by applying the t-statistic is also extremely small. Hence, the null hypothesis is rejected even in this case and all the conclusions arrived at using z-statistics hold.\n",
    "\n",
    "The result is the same because for sample sizes greater than 30, the z-statistic and the t-statistic yield approximately the same results.\n",
    "Conclusions:\n",
    "\n",
    " 1) The p-value for the t-statistic is ten times larger than the p-value of the z-statisitc.<br>\n",
    " 2) However, it is still extremely small. Therefore, we can safely reject the null hypothesis. <br>\n",
    " 3) All the conclusions arrived at with z-statistics also hold with the t-statistics. <br>\n",
    "\n"
   ]
  },
  {
   "cell_type": "markdown",
   "metadata": {},
   "source": [
    "## Q4: Draw a small sample of size 10 from the data and repeat both tests.\n",
    "    1) Which one is the correct one to use?\n",
    "    2) What do you notice? What does this tell you about the difference in application of the  t  and  z  statistic?"
   ]
  },
  {
   "cell_type": "code",
   "execution_count": 64,
   "metadata": {},
   "outputs": [
    {
     "data": {
      "text/html": [
       "<div>\n",
       "<style scoped>\n",
       "    .dataframe tbody tr th:only-of-type {\n",
       "        vertical-align: middle;\n",
       "    }\n",
       "\n",
       "    .dataframe tbody tr th {\n",
       "        vertical-align: top;\n",
       "    }\n",
       "\n",
       "    .dataframe thead th {\n",
       "        text-align: right;\n",
       "    }\n",
       "</style>\n",
       "<table border=\"1\" class=\"dataframe\">\n",
       "  <thead>\n",
       "    <tr style=\"text-align: right;\">\n",
       "      <th></th>\n",
       "      <th>temperature</th>\n",
       "      <th>gender</th>\n",
       "      <th>heart_rate</th>\n",
       "    </tr>\n",
       "  </thead>\n",
       "  <tbody>\n",
       "    <tr>\n",
       "      <th>50</th>\n",
       "      <td>98.9</td>\n",
       "      <td>F</td>\n",
       "      <td>76.0</td>\n",
       "    </tr>\n",
       "    <tr>\n",
       "      <th>76</th>\n",
       "      <td>98.0</td>\n",
       "      <td>F</td>\n",
       "      <td>76.0</td>\n",
       "    </tr>\n",
       "    <tr>\n",
       "      <th>99</th>\n",
       "      <td>98.0</td>\n",
       "      <td>M</td>\n",
       "      <td>74.0</td>\n",
       "    </tr>\n",
       "    <tr>\n",
       "      <th>51</th>\n",
       "      <td>98.3</td>\n",
       "      <td>F</td>\n",
       "      <td>80.0</td>\n",
       "    </tr>\n",
       "    <tr>\n",
       "      <th>87</th>\n",
       "      <td>98.0</td>\n",
       "      <td>M</td>\n",
       "      <td>78.0</td>\n",
       "    </tr>\n",
       "  </tbody>\n",
       "</table>\n",
       "</div>"
      ],
      "text/plain": [
       "    temperature gender  heart_rate\n",
       "50         98.9      F        76.0\n",
       "76         98.0      F        76.0\n",
       "99         98.0      M        74.0\n",
       "51         98.3      F        80.0\n",
       "87         98.0      M        78.0"
      ]
     },
     "execution_count": 64,
     "metadata": {},
     "output_type": "execute_result"
    }
   ],
   "source": [
    "sample = df.sample(10)\n",
    "sample.head()"
   ]
  },
  {
   "cell_type": "code",
   "execution_count": 65,
   "metadata": {},
   "outputs": [
    {
     "name": "stdout",
     "output_type": "stream",
     "text": [
      "sample 1 mean: 98.32000000000001\n",
      "sample 1 std: 0.6844300142778986\n",
      "sigma x 1: 0.21643577440997236\n"
     ]
    }
   ],
   "source": [
    "true_mean = 98.6\n",
    "s1_mean = sample['temperature'].mean()\n",
    "s1_std = sample['temperature'].std()\n",
    "# Now calculating, standard error of the mean i.e. how far the sample mean of the data is likely to be from the true population mean.\n",
    "# We need the below value for the t-test.\n",
    "sigma_x_1 = s1_std/np.sqrt(len(sample))\n",
    "\n",
    "print(\"sample 1 mean: %s\" %s1_mean)\n",
    "print(\"sample 1 std: %s\" %s1_std)\n",
    "print(\"sigma x 1: %s\" %sigma_x_1)"
   ]
  },
  {
   "cell_type": "code",
   "execution_count": 66,
   "metadata": {},
   "outputs": [
    {
     "data": {
      "text/plain": [
       "-1.293686317630704"
      ]
     },
     "execution_count": 66,
     "metadata": {},
     "output_type": "execute_result"
    }
   ],
   "source": [
    "t1 = (s1_mean - true_mean) / sigma_x_1\n",
    "t1"
   ]
  },
  {
   "cell_type": "code",
   "execution_count": 67,
   "metadata": {},
   "outputs": [
    {
     "data": {
      "text/plain": [
       "0.22798690283765755"
      ]
     },
     "execution_count": 67,
     "metadata": {},
     "output_type": "execute_result"
    }
   ],
   "source": [
    "# Calculating p value where cdf stands for cumulative distribution function\n",
    "p1 = (1 - stats.t.cdf(np.abs(t1), len(sample)-1))*2\n",
    "p1"
   ]
  },
  {
   "cell_type": "code",
   "execution_count": 68,
   "metadata": {},
   "outputs": [
    {
     "data": {
      "text/plain": [
       "0.1957737933224788"
      ]
     },
     "execution_count": 68,
     "metadata": {},
     "output_type": "execute_result"
    }
   ],
   "source": [
    "z1 = t1\n",
    "\n",
    "p2 = (1-stats.norm.cdf(np.abs(z1)))*2\n",
    "p2"
   ]
  },
  {
   "cell_type": "markdown",
   "metadata": {},
   "source": [
    "For smaller sample size such as 10, t-test is better suited. As the sample size is less than 30, we cannot do a z-test as we do not know the standard deviation of the population which is required to calculate the z-test. Earlier our sample size was greater than 30 so as per CLT it was okay to assume that the standard deviation of the sample will be same as the standard deviation of the population. But if we plug in the numbers in the formula, we would see the p value is almost the same in both cases."
   ]
  },
  {
   "cell_type": "markdown",
   "metadata": {},
   "source": [
    "## Q5: At what temperature should we consider someone's temperature to be \"abnormal\"?\n",
    "    1) Start by computing the margin of error and confidence interval."
   ]
  },
  {
   "cell_type": "markdown",
   "metadata": {},
   "source": [
    "Let us first calculate the true mean of human temperature with a confidence interval of 95%. Since, we've already calculated the sample mean, sample standard deviation and sigma_x, this step should be fairly straightforward."
   ]
  },
  {
   "cell_type": "code",
   "execution_count": 81,
   "metadata": {},
   "outputs": [
    {
     "name": "stdout",
     "output_type": "stream",
     "text": [
      "margin of error: 0.12603434104911743\n",
      "lower temp: 98.12319642818163\n",
      "upper temp: 98.37526511027987\n"
     ]
    }
   ],
   "source": [
    "# z_critical = stats.norm.ppf(q = 0.975) #q = confidence interval of 95%\n",
    "z0 = stats.norm.ppf(0.975)\n",
    "margin_of_error = z0*sigma_x\n",
    "\n",
    "upper_temp = sample_mean + margin_of_error\n",
    "lower_temp = sample_mean - margin_of_error\n",
    "\n",
    "print(\"margin of error: %s\" %margin_of_error)\n",
    "print(\"lower temp: %s\" %lower_temp)\n",
    "print(\"upper temp: %s\" %upper_temp)"
   ]
  },
  {
   "cell_type": "markdown",
   "metadata": {},
   "source": [
    "From the above results, we are 95% confident that the true mean is somewhere between 98.123F and 98.375F. The margin of error is 13%. Therefore, we can consider any temperature outside this range to be abnormal.\n",
    "Conclusion : A body temperature below 98.123 and above 98.375 should be considered abnormal.\n"
   ]
  },
  {
   "cell_type": "markdown",
   "metadata": {},
   "source": [
    "## Is there a significant difference between males and females in normal temperature?\n",
    "    1) What test did you use and why?\n",
    "    2) Write a story with your conclusion in the context of the original problem."
   ]
  },
  {
   "cell_type": "code",
   "execution_count": 82,
   "metadata": {},
   "outputs": [
    {
     "data": {
      "text/plain": [
       "(65, 65)"
      ]
     },
     "execution_count": 82,
     "metadata": {},
     "output_type": "execute_result"
    }
   ],
   "source": [
    "df_male = df[df['gender'] == 'M']\n",
    "df_female = df[df['gender'] == 'F']\n",
    "\n",
    "len(df_male), len(df_female)"
   ]
  },
  {
   "cell_type": "markdown",
   "metadata": {},
   "source": [
    "We have partitioned our dataframe into two separate dataframes based on gender. Each child dataframe consists of 65 samples each. Since the sample sizes for both dataframes are greater than 30, this implies Central Limit Theorem holds and we can apply z-statistics."
   ]
  },
  {
   "cell_type": "code",
   "execution_count": 83,
   "metadata": {},
   "outputs": [],
   "source": [
    "male_temps = df_male['temperature']\n",
    "female_temps = df_female['temperature']"
   ]
  },
  {
   "cell_type": "code",
   "execution_count": 86,
   "metadata": {},
   "outputs": [
    {
     "name": "stdout",
     "output_type": "stream",
     "text": [
      "male temperature mean: 98.10461538461537\n",
      "male temperature standard deiviation: 0.698755762326591\n"
     ]
    }
   ],
   "source": [
    "male_mean = male_temps.mean()\n",
    "male_std = male_temps.std()\n",
    "\n",
    "print(\"male temperature mean: %s\" %male_mean)\n",
    "print(\"male temperature standard deiviation: %s\" %male_std)"
   ]
  },
  {
   "cell_type": "code",
   "execution_count": 87,
   "metadata": {},
   "outputs": [
    {
     "name": "stdout",
     "output_type": "stream",
     "text": [
      "female temperature mean: 98.39384615384614\n",
      "female temperature standard deiviation: 0.7434877527313664\n"
     ]
    }
   ],
   "source": [
    "female_mean = female_temps.mean()\n",
    "female_std = female_temps.std()\n",
    " \n",
    "print(\"female temperature mean: %s\" %female_mean)\n",
    "print(\"female temperature standard deiviation: %s\" %female_std)"
   ]
  },
  {
   "cell_type": "markdown",
   "metadata": {},
   "source": [
    "From the above calculations, it can be seen that the mean and the standard deviations of male and female temperatures differ slightly. The next step is to determine if this difference is a statistically significant one.\n",
    "\n",
    "For hypothesis testing, the following are defined:\n",
    "\n",
    "    Null Hypothesis: The true mean temperature for men and women are the same.\n",
    "    Alternate Hypothesis: The true mean temperature for men and women are not the same.\n",
    "\n",
    "The threshold value of $\\alpha$ is assumed to be 0.05. Assuming Null Hypothesis is true.\n"
   ]
  },
  {
   "cell_type": "code",
   "execution_count": 92,
   "metadata": {},
   "outputs": [
    {
     "data": {
      "text/plain": [
       "(0.2892307692307696, 0.03150443755725218)"
      ]
     },
     "execution_count": 92,
     "metadata": {},
     "output_type": "execute_result"
    }
   ],
   "source": [
    "h0_mean = 0\n",
    "mean_diff = female_mean - male_mean\n",
    "sigma_diff = np.sqrt((female_std**2)/len(female_temps)  + (male_std**2)/len(male_temps))\n",
    "mean_diff, sigma_diff"
   ]
  },
  {
   "cell_type": "code",
   "execution_count": 89,
   "metadata": {},
   "outputs": [
    {
     "data": {
      "text/plain": [
       "2.2854345381656103"
      ]
     },
     "execution_count": 89,
     "metadata": {},
     "output_type": "execute_result"
    }
   ],
   "source": [
    "z = (mean_diff - h0_mean) / sigma_diff\n",
    "z"
   ]
  },
  {
   "cell_type": "code",
   "execution_count": 90,
   "metadata": {},
   "outputs": [
    {
     "data": {
      "text/plain": [
       "0.022287360760657515"
      ]
     },
     "execution_count": 90,
     "metadata": {},
     "output_type": "execute_result"
    }
   ],
   "source": [
    "p = (1-stats.norm.cdf(z))*2\n",
    "p"
   ]
  },
  {
   "cell_type": "markdown",
   "metadata": {},
   "source": [
    "The p-value obtained in this case is 0.02 which is less than the accepted threshold of 0.05.\n",
    "\n",
    "Therefore, we have to reject the null hypothesis and accept the alternate hypothesis. In other words, there is a significant difference in male and female body temperatures.\n",
    "\n",
    "For this test, two-sample test was used as we were trying to compare the means of two different groups. Also, the z-statistic was used as the sample sizes for both groups were greater than 30.\n",
    "Conclusions\n",
    "\n",
    "    The distribution of human temperatures is normal and can be modeled as a Gaussian distribution.\n",
    "    The human temperatures are statistically independent.\n",
    "    We are reasonably confident that the mean temperature of the human body is not 98.6F. This is done by hypothesis testing and calculating the corresponding z-statistic.\n",
    "    The z-statistic and t-statsitic yield similar results for sample sizes greater than 30.\n",
    "    Male and female body temperatures differ significantly to be of statistical importance."
   ]
  },
  {
   "cell_type": "code",
   "execution_count": null,
   "metadata": {},
   "outputs": [],
   "source": []
  }
 ],
 "metadata": {
  "kernelspec": {
   "display_name": "Python 3",
   "language": "python",
   "name": "python3"
  },
  "language_info": {
   "codemirror_mode": {
    "name": "ipython",
    "version": 3
   },
   "file_extension": ".py",
   "mimetype": "text/x-python",
   "name": "python",
   "nbconvert_exporter": "python",
   "pygments_lexer": "ipython3",
   "version": "3.6.5"
  }
 },
 "nbformat": 4,
 "nbformat_minor": 2
}
